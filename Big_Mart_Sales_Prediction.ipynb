{
 "cells": [
  {
   "cell_type": "markdown",
   "id": "0babeea2",
   "metadata": {},
   "source": [
    "# Big Mart Sales Prediction"
   ]
  },
  {
   "cell_type": "markdown",
   "id": "6abdd8fa",
   "metadata": {},
   "source": [
    "## Abstract :\n",
    "Any insight into the future puts your organization at an advantage. Forecasting helps you predict potential issues, make better decisions, and measure the impact of those decisions.\n",
    "Forecasting of sales is a very important aspect for every distribution,manufacturing,marketing and wholesaling companies. Forecasting gives them a way by which they can take better decision\n",
    "\n",
    "- Sales Forecasting helps their business to utilize resources efficiently \n",
    "- Sales forecasting also helps businesses to estimate their costs and revenue accurately based on which they are able to predict their short-term and long-term performance\n",
    "- Sales Forecasting help to identify early warning so that corrective measure can be taken \n",
    "\n",
    "IN this project we will try to predict sales of a product based on different feature like location,type of super-store by using Regression technique."
   ]
  },
  {
   "cell_type": "markdown",
   "id": "f43bfb2c",
   "metadata": {},
   "source": [
    "## Problem Defination :\n",
    "The data scientists at BigMart have collected 2013 sales data for 1559 products across 10 stores in different cities. Also, certain attributes of each product and store have been defined. The aim is to build a predictive model and predict the sales."
   ]
  },
  {
   "cell_type": "markdown",
   "id": "8e9c8aa5",
   "metadata": {},
   "source": [
    "## Problem Defination :\n",
    "The data scientists at BigMart have collected 2013 sales data for 1559 products across 10 stores in different cities. Also, certain attributes of each product and store have been defined. The aim is to build a predictive model and predict the sales."
   ]
  },
  {
   "cell_type": "markdown",
   "id": "9a0cfb02",
   "metadata": {},
   "source": [
    "## Problem Defination :\n",
    "The data scientists at BigMart have collected 2013 sales data for 1559 products across 10 stores in different cities. Also, certain attributes of each product and store have been defined. The aim is to build a predictive model and predict the sales."
   ]
  },
  {
   "cell_type": "markdown",
   "id": "8747d002",
   "metadata": {},
   "source": [
    "## Data Set Information :\n",
    "Big Mart sales data for 1559 products across 10 stores in different cities in 2013 (Analytics Vidhya Hackathons)"
   ]
  },
  {
   "cell_type": "markdown",
   "id": "7da04f9b",
   "metadata": {},
   "source": [
    "## Attribute Information\n",
    "- Item_Identifier: Unique product ID\n",
    "- Item_Weight: Weight of product  \n",
    "- Item_Fat_Content: Whether the product is low fat or not  \n",
    "- Item_Visibility: The % of total display area of all products in a store allocated to the particular product  \n",
    "- Item_Type: The category to which the product belongs  \n",
    "- Item_MRP: Maximum Retail Price (list price) of the product  \n",
    "- Outlet_Identifier: Unique store ID  \n",
    "- Outlet_Establishment_Year: The year in which store was established  \n",
    "- Outlet_Size: The size of the store in terms of ground area covered  \n",
    "- Outlet_Location_Type: The type of city in which the store is located  \n",
    "- Outlet_Type: Whether the outlet is just a grocery store or some sort of supermarket   \n",
    "- Item_Outlet_Sales: Sales of the product in the particular store. This is the outcome variable to be predicted  "
   ]
  },
  {
   "cell_type": "markdown",
   "id": "18ef7555",
   "metadata": {},
   "source": [
    "## Data Analysis"
   ]
  },
  {
   "cell_type": "code",
   "execution_count": 2,
   "id": "02677c10",
   "metadata": {},
   "outputs": [],
   "source": [
    "import pandas as pd\n",
    "import numpy as np\n",
    "import seaborn as sns\n",
    "import matplotlib.pyplot as plt\n",
    "from scipy.stats import mode\n",
    "import warnings\n",
    "warnings.filterwarnings('ignore')\n",
    "from sklearn.preprocessing import LabelEncoder"
   ]
  },
  {
   "cell_type": "code",
   "execution_count": 3,
   "id": "d9c4a91a",
   "metadata": {},
   "outputs": [],
   "source": [
    "df=pd.read_csv(\"Train big mart.csv\")"
   ]
  },
  {
   "cell_type": "code",
   "execution_count": 4,
   "id": "818e66ac",
   "metadata": {},
   "outputs": [
    {
     "data": {
      "text/html": [
       "<div>\n",
       "<style scoped>\n",
       "    .dataframe tbody tr th:only-of-type {\n",
       "        vertical-align: middle;\n",
       "    }\n",
       "\n",
       "    .dataframe tbody tr th {\n",
       "        vertical-align: top;\n",
       "    }\n",
       "\n",
       "    .dataframe thead th {\n",
       "        text-align: right;\n",
       "    }\n",
       "</style>\n",
       "<table border=\"1\" class=\"dataframe\">\n",
       "  <thead>\n",
       "    <tr style=\"text-align: right;\">\n",
       "      <th></th>\n",
       "      <th>Item_Identifier</th>\n",
       "      <th>Item_Weight</th>\n",
       "      <th>Item_Fat_Content</th>\n",
       "      <th>Item_Visibility</th>\n",
       "      <th>Item_Type</th>\n",
       "      <th>Item_MRP</th>\n",
       "      <th>Outlet_Identifier</th>\n",
       "      <th>Outlet_Establishment_Year</th>\n",
       "      <th>Outlet_Size</th>\n",
       "      <th>Outlet_Location_Type</th>\n",
       "      <th>Outlet_Type</th>\n",
       "      <th>Item_Outlet_Sales</th>\n",
       "    </tr>\n",
       "  </thead>\n",
       "  <tbody>\n",
       "    <tr>\n",
       "      <th>0</th>\n",
       "      <td>FDA15</td>\n",
       "      <td>9.30</td>\n",
       "      <td>Low Fat</td>\n",
       "      <td>0.016047</td>\n",
       "      <td>Dairy</td>\n",
       "      <td>249.8092</td>\n",
       "      <td>OUT049</td>\n",
       "      <td>1999</td>\n",
       "      <td>Medium</td>\n",
       "      <td>Tier 1</td>\n",
       "      <td>Supermarket Type1</td>\n",
       "      <td>3735.1380</td>\n",
       "    </tr>\n",
       "    <tr>\n",
       "      <th>1</th>\n",
       "      <td>DRC01</td>\n",
       "      <td>5.92</td>\n",
       "      <td>Regular</td>\n",
       "      <td>0.019278</td>\n",
       "      <td>Soft Drinks</td>\n",
       "      <td>48.2692</td>\n",
       "      <td>OUT018</td>\n",
       "      <td>2009</td>\n",
       "      <td>Medium</td>\n",
       "      <td>Tier 3</td>\n",
       "      <td>Supermarket Type2</td>\n",
       "      <td>443.4228</td>\n",
       "    </tr>\n",
       "    <tr>\n",
       "      <th>2</th>\n",
       "      <td>FDN15</td>\n",
       "      <td>17.50</td>\n",
       "      <td>Low Fat</td>\n",
       "      <td>0.016760</td>\n",
       "      <td>Meat</td>\n",
       "      <td>141.6180</td>\n",
       "      <td>OUT049</td>\n",
       "      <td>1999</td>\n",
       "      <td>Medium</td>\n",
       "      <td>Tier 1</td>\n",
       "      <td>Supermarket Type1</td>\n",
       "      <td>2097.2700</td>\n",
       "    </tr>\n",
       "    <tr>\n",
       "      <th>3</th>\n",
       "      <td>FDX07</td>\n",
       "      <td>19.20</td>\n",
       "      <td>Regular</td>\n",
       "      <td>0.000000</td>\n",
       "      <td>Fruits and Vegetables</td>\n",
       "      <td>182.0950</td>\n",
       "      <td>OUT010</td>\n",
       "      <td>1998</td>\n",
       "      <td>NaN</td>\n",
       "      <td>Tier 3</td>\n",
       "      <td>Grocery Store</td>\n",
       "      <td>732.3800</td>\n",
       "    </tr>\n",
       "    <tr>\n",
       "      <th>4</th>\n",
       "      <td>NCD19</td>\n",
       "      <td>8.93</td>\n",
       "      <td>Low Fat</td>\n",
       "      <td>0.000000</td>\n",
       "      <td>Household</td>\n",
       "      <td>53.8614</td>\n",
       "      <td>OUT013</td>\n",
       "      <td>1987</td>\n",
       "      <td>High</td>\n",
       "      <td>Tier 3</td>\n",
       "      <td>Supermarket Type1</td>\n",
       "      <td>994.7052</td>\n",
       "    </tr>\n",
       "  </tbody>\n",
       "</table>\n",
       "</div>"
      ],
      "text/plain": [
       "  Item_Identifier  Item_Weight Item_Fat_Content  Item_Visibility  \\\n",
       "0           FDA15         9.30          Low Fat         0.016047   \n",
       "1           DRC01         5.92          Regular         0.019278   \n",
       "2           FDN15        17.50          Low Fat         0.016760   \n",
       "3           FDX07        19.20          Regular         0.000000   \n",
       "4           NCD19         8.93          Low Fat         0.000000   \n",
       "\n",
       "               Item_Type  Item_MRP Outlet_Identifier  \\\n",
       "0                  Dairy  249.8092            OUT049   \n",
       "1            Soft Drinks   48.2692            OUT018   \n",
       "2                   Meat  141.6180            OUT049   \n",
       "3  Fruits and Vegetables  182.0950            OUT010   \n",
       "4              Household   53.8614            OUT013   \n",
       "\n",
       "   Outlet_Establishment_Year Outlet_Size Outlet_Location_Type  \\\n",
       "0                       1999      Medium               Tier 1   \n",
       "1                       2009      Medium               Tier 3   \n",
       "2                       1999      Medium               Tier 1   \n",
       "3                       1998         NaN               Tier 3   \n",
       "4                       1987        High               Tier 3   \n",
       "\n",
       "         Outlet_Type  Item_Outlet_Sales  \n",
       "0  Supermarket Type1          3735.1380  \n",
       "1  Supermarket Type2           443.4228  \n",
       "2  Supermarket Type1          2097.2700  \n",
       "3      Grocery Store           732.3800  \n",
       "4  Supermarket Type1           994.7052  "
      ]
     },
     "execution_count": 4,
     "metadata": {},
     "output_type": "execute_result"
    }
   ],
   "source": [
    "df.head()"
   ]
  },
  {
   "cell_type": "code",
   "execution_count": 5,
   "id": "41b30b92",
   "metadata": {
    "scrolled": true
   },
   "outputs": [
    {
     "data": {
      "text/html": [
       "<div>\n",
       "<style scoped>\n",
       "    .dataframe tbody tr th:only-of-type {\n",
       "        vertical-align: middle;\n",
       "    }\n",
       "\n",
       "    .dataframe tbody tr th {\n",
       "        vertical-align: top;\n",
       "    }\n",
       "\n",
       "    .dataframe thead th {\n",
       "        text-align: right;\n",
       "    }\n",
       "</style>\n",
       "<table border=\"1\" class=\"dataframe\">\n",
       "  <thead>\n",
       "    <tr style=\"text-align: right;\">\n",
       "      <th></th>\n",
       "      <th>Item_Weight</th>\n",
       "      <th>Item_Visibility</th>\n",
       "      <th>Item_MRP</th>\n",
       "      <th>Outlet_Establishment_Year</th>\n",
       "      <th>Item_Outlet_Sales</th>\n",
       "    </tr>\n",
       "  </thead>\n",
       "  <tbody>\n",
       "    <tr>\n",
       "      <th>count</th>\n",
       "      <td>7060.000000</td>\n",
       "      <td>8523.000000</td>\n",
       "      <td>8523.000000</td>\n",
       "      <td>8523.000000</td>\n",
       "      <td>8523.000000</td>\n",
       "    </tr>\n",
       "    <tr>\n",
       "      <th>mean</th>\n",
       "      <td>12.857645</td>\n",
       "      <td>0.066132</td>\n",
       "      <td>140.992782</td>\n",
       "      <td>1997.831867</td>\n",
       "      <td>2181.288914</td>\n",
       "    </tr>\n",
       "    <tr>\n",
       "      <th>std</th>\n",
       "      <td>4.643456</td>\n",
       "      <td>0.051598</td>\n",
       "      <td>62.275067</td>\n",
       "      <td>8.371760</td>\n",
       "      <td>1706.499616</td>\n",
       "    </tr>\n",
       "    <tr>\n",
       "      <th>min</th>\n",
       "      <td>4.555000</td>\n",
       "      <td>0.000000</td>\n",
       "      <td>31.290000</td>\n",
       "      <td>1985.000000</td>\n",
       "      <td>33.290000</td>\n",
       "    </tr>\n",
       "    <tr>\n",
       "      <th>25%</th>\n",
       "      <td>8.773750</td>\n",
       "      <td>0.026989</td>\n",
       "      <td>93.826500</td>\n",
       "      <td>1987.000000</td>\n",
       "      <td>834.247400</td>\n",
       "    </tr>\n",
       "    <tr>\n",
       "      <th>50%</th>\n",
       "      <td>12.600000</td>\n",
       "      <td>0.053931</td>\n",
       "      <td>143.012800</td>\n",
       "      <td>1999.000000</td>\n",
       "      <td>1794.331000</td>\n",
       "    </tr>\n",
       "    <tr>\n",
       "      <th>75%</th>\n",
       "      <td>16.850000</td>\n",
       "      <td>0.094585</td>\n",
       "      <td>185.643700</td>\n",
       "      <td>2004.000000</td>\n",
       "      <td>3101.296400</td>\n",
       "    </tr>\n",
       "    <tr>\n",
       "      <th>max</th>\n",
       "      <td>21.350000</td>\n",
       "      <td>0.328391</td>\n",
       "      <td>266.888400</td>\n",
       "      <td>2009.000000</td>\n",
       "      <td>13086.964800</td>\n",
       "    </tr>\n",
       "  </tbody>\n",
       "</table>\n",
       "</div>"
      ],
      "text/plain": [
       "       Item_Weight  Item_Visibility     Item_MRP  Outlet_Establishment_Year  \\\n",
       "count  7060.000000      8523.000000  8523.000000                8523.000000   \n",
       "mean     12.857645         0.066132   140.992782                1997.831867   \n",
       "std       4.643456         0.051598    62.275067                   8.371760   \n",
       "min       4.555000         0.000000    31.290000                1985.000000   \n",
       "25%       8.773750         0.026989    93.826500                1987.000000   \n",
       "50%      12.600000         0.053931   143.012800                1999.000000   \n",
       "75%      16.850000         0.094585   185.643700                2004.000000   \n",
       "max      21.350000         0.328391   266.888400                2009.000000   \n",
       "\n",
       "       Item_Outlet_Sales  \n",
       "count        8523.000000  \n",
       "mean         2181.288914  \n",
       "std          1706.499616  \n",
       "min            33.290000  \n",
       "25%           834.247400  \n",
       "50%          1794.331000  \n",
       "75%          3101.296400  \n",
       "max         13086.964800  "
      ]
     },
     "execution_count": 5,
     "metadata": {},
     "output_type": "execute_result"
    }
   ],
   "source": [
    "#statistical info about numerical feature of data set\n",
    "df.describe()"
   ]
  },
  {
   "cell_type": "code",
   "execution_count": 6,
   "id": "f9356bd2",
   "metadata": {},
   "outputs": [
    {
     "data": {
      "text/plain": [
       "(8523, 12)"
      ]
     },
     "execution_count": 6,
     "metadata": {},
     "output_type": "execute_result"
    }
   ],
   "source": [
    "#finding total rows and columns of the data\n",
    "df.shape"
   ]
  },
  {
   "cell_type": "code",
   "execution_count": 7,
   "id": "55fef5a5",
   "metadata": {},
   "outputs": [
    {
     "name": "stdout",
     "output_type": "stream",
     "text": [
      "<class 'pandas.core.frame.DataFrame'>\n",
      "RangeIndex: 8523 entries, 0 to 8522\n",
      "Data columns (total 12 columns):\n",
      " #   Column                     Non-Null Count  Dtype  \n",
      "---  ------                     --------------  -----  \n",
      " 0   Item_Identifier            8523 non-null   object \n",
      " 1   Item_Weight                7060 non-null   float64\n",
      " 2   Item_Fat_Content           8523 non-null   object \n",
      " 3   Item_Visibility            8523 non-null   float64\n",
      " 4   Item_Type                  8523 non-null   object \n",
      " 5   Item_MRP                   8523 non-null   float64\n",
      " 6   Outlet_Identifier          8523 non-null   object \n",
      " 7   Outlet_Establishment_Year  8523 non-null   int64  \n",
      " 8   Outlet_Size                6113 non-null   object \n",
      " 9   Outlet_Location_Type       8523 non-null   object \n",
      " 10  Outlet_Type                8523 non-null   object \n",
      " 11  Item_Outlet_Sales          8523 non-null   float64\n",
      "dtypes: float64(4), int64(1), object(7)\n",
      "memory usage: 799.2+ KB\n"
     ]
    }
   ],
   "source": [
    "df.info()"
   ]
  },
  {
   "cell_type": "markdown",
   "id": "4ffe0956",
   "metadata": {},
   "source": [
    "we can see that item weight and outlet size have some missing values we have to impute these."
   ]
  },
  {
   "cell_type": "code",
   "execution_count": 8,
   "id": "7589d640",
   "metadata": {},
   "outputs": [
    {
     "data": {
      "text/plain": [
       "Item_Identifier                 0\n",
       "Item_Weight                  1463\n",
       "Item_Fat_Content                0\n",
       "Item_Visibility                 0\n",
       "Item_Type                       0\n",
       "Item_MRP                        0\n",
       "Outlet_Identifier               0\n",
       "Outlet_Establishment_Year       0\n",
       "Outlet_Size                  2410\n",
       "Outlet_Location_Type            0\n",
       "Outlet_Type                     0\n",
       "Item_Outlet_Sales               0\n",
       "dtype: int64"
      ]
     },
     "execution_count": 8,
     "metadata": {},
     "output_type": "execute_result"
    }
   ],
   "source": [
    "#check null value\n",
    "df.isnull().sum()"
   ]
  },
  {
   "cell_type": "markdown",
   "id": "ca746315",
   "metadata": {},
   "source": [
    "#### Item_Weight contains 1463 null and Outlet_Size has 2410 null values"
   ]
  },
  {
   "cell_type": "markdown",
   "id": "1f62a99b",
   "metadata": {},
   "source": [
    "Now i want to find the columns which have object data type i.e. the columns which has categorical type of data"
   ]
  },
  {
   "cell_type": "code",
   "execution_count": 9,
   "id": "5fb29eac",
   "metadata": {},
   "outputs": [
    {
     "data": {
      "text/plain": [
       "['Item_Identifier',\n",
       " 'Item_Fat_Content',\n",
       " 'Item_Type',\n",
       " 'Outlet_Identifier',\n",
       " 'Outlet_Size',\n",
       " 'Outlet_Location_Type',\n",
       " 'Outlet_Type']"
      ]
     },
     "execution_count": 9,
     "metadata": {},
     "output_type": "execute_result"
    }
   ],
   "source": [
    "#check for categorical coloumns\n",
    "object_columns=[]\n",
    "for x in df:\n",
    "    if df[x].dtypes==\"object\":\n",
    "        object_columns.append(x)\n",
    "object_columns\n",
    "    "
   ]
  },
  {
   "cell_type": "code",
   "execution_count": 10,
   "id": "76435961",
   "metadata": {},
   "outputs": [],
   "source": [
    "#df.drop(columns=[\"Item_Identifier\", \"Outlet_Identifier\"],axis=1,inplace=True)"
   ]
  },
  {
   "cell_type": "code",
   "execution_count": 11,
   "id": "22e7b341",
   "metadata": {},
   "outputs": [
    {
     "data": {
      "text/plain": [
       "['Item_Fat_Content',\n",
       " 'Item_Type',\n",
       " 'Outlet_Size',\n",
       " 'Outlet_Location_Type',\n",
       " 'Outlet_Type']"
      ]
     },
     "execution_count": 11,
     "metadata": {},
     "output_type": "execute_result"
    }
   ],
   "source": [
    "object_columns.remove(\"Item_Identifier\")\n",
    "object_columns.remove(\"Outlet_Identifier\")\n",
    "object_columns\n"
   ]
  },
  {
   "cell_type": "markdown",
   "id": "864e240f",
   "metadata": {},
   "source": [
    "Now I want to look at which type of data is present in these coloumns and how many type of data is present in these columns and their respective value counts."
   ]
  },
  {
   "cell_type": "code",
   "execution_count": 12,
   "id": "353bfa6c",
   "metadata": {},
   "outputs": [
    {
     "name": "stdout",
     "output_type": "stream",
     "text": [
      "Item_Fat_Content\n",
      "Low Fat    5089\n",
      "Regular    2889\n",
      "LF          316\n",
      "reg         117\n",
      "low fat     112\n",
      "Name: Item_Fat_Content, dtype: int64\n",
      "\n",
      "Item_Type\n",
      "Fruits and Vegetables    1232\n",
      "Snack Foods              1200\n",
      "Household                 910\n",
      "Frozen Foods              856\n",
      "Dairy                     682\n",
      "Canned                    649\n",
      "Baking Goods              648\n",
      "Health and Hygiene        520\n",
      "Soft Drinks               445\n",
      "Meat                      425\n",
      "Breads                    251\n",
      "Hard Drinks               214\n",
      "Others                    169\n",
      "Starchy Foods             148\n",
      "Breakfast                 110\n",
      "Seafood                    64\n",
      "Name: Item_Type, dtype: int64\n",
      "\n",
      "Outlet_Size\n",
      "Medium    2793\n",
      "Small     2388\n",
      "High       932\n",
      "Name: Outlet_Size, dtype: int64\n",
      "\n",
      "Outlet_Location_Type\n",
      "Tier 3    3350\n",
      "Tier 2    2785\n",
      "Tier 1    2388\n",
      "Name: Outlet_Location_Type, dtype: int64\n",
      "\n",
      "Outlet_Type\n",
      "Supermarket Type1    5577\n",
      "Grocery Store        1083\n",
      "Supermarket Type3     935\n",
      "Supermarket Type2     928\n",
      "Name: Outlet_Type, dtype: int64\n",
      "\n"
     ]
    }
   ],
   "source": [
    "#finding what are the  different type of item are in columns and their count\n",
    "for i in object_columns:\n",
    "    print(i)\n",
    "    print(df[i].value_counts())\n",
    "    print()"
   ]
  },
  {
   "cell_type": "markdown",
   "id": "99834cde",
   "metadata": {},
   "source": [
    "# Imputing Missing Values"
   ]
  },
  {
   "cell_type": "markdown",
   "id": "76063477",
   "metadata": {},
   "source": [
    "Now i want to find the mean weight of different product but but mean will be product wise"
   ]
  },
  {
   "cell_type": "code",
   "execution_count": 13,
   "id": "9c9f525d",
   "metadata": {},
   "outputs": [
    {
     "data": {
      "text/html": [
       "<div>\n",
       "<style scoped>\n",
       "    .dataframe tbody tr th:only-of-type {\n",
       "        vertical-align: middle;\n",
       "    }\n",
       "\n",
       "    .dataframe tbody tr th {\n",
       "        vertical-align: top;\n",
       "    }\n",
       "\n",
       "    .dataframe thead th {\n",
       "        text-align: right;\n",
       "    }\n",
       "</style>\n",
       "<table border=\"1\" class=\"dataframe\">\n",
       "  <thead>\n",
       "    <tr style=\"text-align: right;\">\n",
       "      <th></th>\n",
       "      <th>Item_Weight</th>\n",
       "    </tr>\n",
       "    <tr>\n",
       "      <th>Item_Identifier</th>\n",
       "      <th></th>\n",
       "    </tr>\n",
       "  </thead>\n",
       "  <tbody>\n",
       "    <tr>\n",
       "      <th>DRA12</th>\n",
       "      <td>11.600</td>\n",
       "    </tr>\n",
       "    <tr>\n",
       "      <th>DRA24</th>\n",
       "      <td>19.350</td>\n",
       "    </tr>\n",
       "    <tr>\n",
       "      <th>DRA59</th>\n",
       "      <td>8.270</td>\n",
       "    </tr>\n",
       "    <tr>\n",
       "      <th>DRB01</th>\n",
       "      <td>7.390</td>\n",
       "    </tr>\n",
       "    <tr>\n",
       "      <th>DRB13</th>\n",
       "      <td>6.115</td>\n",
       "    </tr>\n",
       "    <tr>\n",
       "      <th>...</th>\n",
       "      <td>...</td>\n",
       "    </tr>\n",
       "    <tr>\n",
       "      <th>NCZ30</th>\n",
       "      <td>6.590</td>\n",
       "    </tr>\n",
       "    <tr>\n",
       "      <th>NCZ41</th>\n",
       "      <td>19.850</td>\n",
       "    </tr>\n",
       "    <tr>\n",
       "      <th>NCZ42</th>\n",
       "      <td>10.500</td>\n",
       "    </tr>\n",
       "    <tr>\n",
       "      <th>NCZ53</th>\n",
       "      <td>9.600</td>\n",
       "    </tr>\n",
       "    <tr>\n",
       "      <th>NCZ54</th>\n",
       "      <td>14.650</td>\n",
       "    </tr>\n",
       "  </tbody>\n",
       "</table>\n",
       "<p>1559 rows × 1 columns</p>\n",
       "</div>"
      ],
      "text/plain": [
       "                 Item_Weight\n",
       "Item_Identifier             \n",
       "DRA12                 11.600\n",
       "DRA24                 19.350\n",
       "DRA59                  8.270\n",
       "DRB01                  7.390\n",
       "DRB13                  6.115\n",
       "...                      ...\n",
       "NCZ30                  6.590\n",
       "NCZ41                 19.850\n",
       "NCZ42                 10.500\n",
       "NCZ53                  9.600\n",
       "NCZ54                 14.650\n",
       "\n",
       "[1559 rows x 1 columns]"
      ]
     },
     "execution_count": 13,
     "metadata": {},
     "output_type": "execute_result"
    }
   ],
   "source": [
    "#filling missing values\n",
    "\n",
    "item_weight_mean=df.groupby('Item_Identifier').agg({'Item_Weight':np.mean})\n",
    "item_weight_mean"
   ]
  },
  {
   "cell_type": "markdown",
   "id": "767b7782",
   "metadata": {},
   "source": [
    "Finding bollean of missing value in item weight column"
   ]
  },
  {
   "cell_type": "code",
   "execution_count": 14,
   "id": "8012e59b",
   "metadata": {},
   "outputs": [
    {
     "data": {
      "text/plain": [
       "0       False\n",
       "1       False\n",
       "2       False\n",
       "3       False\n",
       "4       False\n",
       "        ...  \n",
       "8518    False\n",
       "8519    False\n",
       "8520    False\n",
       "8521    False\n",
       "8522    False\n",
       "Name: Item_Weight, Length: 8523, dtype: bool"
      ]
     },
     "execution_count": 14,
     "metadata": {},
     "output_type": "execute_result"
    }
   ],
   "source": [
    "missing_item_weight = df[\"Item_Weight\"].isnull()\n",
    "missing_item_weight"
   ]
  },
  {
   "cell_type": "markdown",
   "id": "887e5701",
   "metadata": {},
   "source": [
    "Now i will find location where boolean of missing value is true in that location i will check for item identifire and i will fill mean of that item identifire in location of item weight."
   ]
  },
  {
   "cell_type": "code",
   "execution_count": 15,
   "id": "5fa5fd41",
   "metadata": {},
   "outputs": [],
   "source": [
    "for i, item in enumerate(df[\"Item_Identifier\"]):\n",
    "    if missing_item_weight[i]:\n",
    "        if item in item_weight_mean:\n",
    "            df[\"Item_Weight\"][i] = item_weight_mean.loc[item][\"Item_Weight\"]\n",
    "        else:\n",
    "            df[\"Item_Weight\"][i] = np.mean(df['Item_Weight'])"
   ]
  },
  {
   "cell_type": "code",
   "execution_count": 16,
   "id": "8a94075e",
   "metadata": {},
   "outputs": [
    {
     "data": {
      "text/plain": [
       "0"
      ]
     },
     "execution_count": 16,
     "metadata": {},
     "output_type": "execute_result"
    }
   ],
   "source": [
    "df[\"Item_Weight\"].isnull().sum()"
   ]
  },
  {
   "cell_type": "markdown",
   "id": "105dce99",
   "metadata": {},
   "source": [
    "Now finding the outlet type with their respective mode value"
   ]
  },
  {
   "cell_type": "code",
   "execution_count": 17,
   "id": "bcdcf8af",
   "metadata": {},
   "outputs": [],
   "source": [
    "outlet_size_mode = df.pivot_table(values = \"Outlet_Size\" , columns = \"Outlet_Type\", aggfunc=(lambda x: x.mode()))"
   ]
  },
  {
   "cell_type": "code",
   "execution_count": 18,
   "id": "15c7ef28",
   "metadata": {},
   "outputs": [
    {
     "data": {
      "text/html": [
       "<div>\n",
       "<style scoped>\n",
       "    .dataframe tbody tr th:only-of-type {\n",
       "        vertical-align: middle;\n",
       "    }\n",
       "\n",
       "    .dataframe tbody tr th {\n",
       "        vertical-align: top;\n",
       "    }\n",
       "\n",
       "    .dataframe thead th {\n",
       "        text-align: right;\n",
       "    }\n",
       "</style>\n",
       "<table border=\"1\" class=\"dataframe\">\n",
       "  <thead>\n",
       "    <tr style=\"text-align: right;\">\n",
       "      <th>Outlet_Type</th>\n",
       "      <th>Grocery Store</th>\n",
       "      <th>Supermarket Type1</th>\n",
       "      <th>Supermarket Type2</th>\n",
       "      <th>Supermarket Type3</th>\n",
       "    </tr>\n",
       "  </thead>\n",
       "  <tbody>\n",
       "    <tr>\n",
       "      <th>Outlet_Size</th>\n",
       "      <td>Small</td>\n",
       "      <td>Small</td>\n",
       "      <td>Medium</td>\n",
       "      <td>Medium</td>\n",
       "    </tr>\n",
       "  </tbody>\n",
       "</table>\n",
       "</div>"
      ],
      "text/plain": [
       "Outlet_Type Grocery Store Supermarket Type1 Supermarket Type2  \\\n",
       "Outlet_Size         Small             Small            Medium   \n",
       "\n",
       "Outlet_Type Supermarket Type3  \n",
       "Outlet_Size            Medium  "
      ]
     },
     "execution_count": 18,
     "metadata": {},
     "output_type": "execute_result"
    }
   ],
   "source": [
    "outlet_size_mode"
   ]
  },
  {
   "cell_type": "code",
   "execution_count": 19,
   "id": "60a599fb",
   "metadata": {},
   "outputs": [],
   "source": [
    "# outlet_size_mode=df.groupby(\"Outlet_Type\").agg({\"Outlet_Size\":pd.Series.mode})\n",
    "# outlet_size_mode"
   ]
  },
  {
   "cell_type": "code",
   "execution_count": 20,
   "id": "b63541b0",
   "metadata": {},
   "outputs": [
    {
     "data": {
      "text/plain": [
       "0       False\n",
       "1       False\n",
       "2       False\n",
       "3        True\n",
       "4       False\n",
       "        ...  \n",
       "8518    False\n",
       "8519     True\n",
       "8520    False\n",
       "8521    False\n",
       "8522    False\n",
       "Name: Outlet_Size, Length: 8523, dtype: bool"
      ]
     },
     "execution_count": 20,
     "metadata": {},
     "output_type": "execute_result"
    }
   ],
   "source": [
    "missing_outlet = df[\"Outlet_Size\"].isnull()\n",
    "missing_outlet"
   ]
  },
  {
   "cell_type": "markdown",
   "id": "8f484e1a",
   "metadata": {},
   "source": [
    "Now checking Boolean of missing value of outlest size and finding the outlet type of that missing value and filling that missing value with respect to outlet type"
   ]
  },
  {
   "cell_type": "code",
   "execution_count": 21,
   "id": "a8b984de",
   "metadata": {},
   "outputs": [],
   "source": [
    "df.loc[missing_outlet ,'Outlet_Size'] = df.loc[missing_outlet ,'Outlet_Type'].apply(lambda x: outlet_size_mode[x])"
   ]
  },
  {
   "cell_type": "code",
   "execution_count": 22,
   "id": "a4b396d7",
   "metadata": {},
   "outputs": [
    {
     "data": {
      "text/plain": [
       "0"
      ]
     },
     "execution_count": 22,
     "metadata": {},
     "output_type": "execute_result"
    }
   ],
   "source": [
    "df[\"Outlet_Size\"].isnull().sum()"
   ]
  },
  {
   "cell_type": "code",
   "execution_count": 23,
   "id": "71e69a30",
   "metadata": {},
   "outputs": [
    {
     "data": {
      "text/plain": [
       "3           Grocery Store\n",
       "8       Supermarket Type1\n",
       "9       Supermarket Type1\n",
       "25      Supermarket Type1\n",
       "28          Grocery Store\n",
       "              ...        \n",
       "8502    Supermarket Type1\n",
       "8508    Supermarket Type1\n",
       "8509        Grocery Store\n",
       "8514    Supermarket Type1\n",
       "8519    Supermarket Type1\n",
       "Name: Outlet_Type, Length: 2410, dtype: object"
      ]
     },
     "execution_count": 23,
     "metadata": {},
     "output_type": "execute_result"
    }
   ],
   "source": [
    "df.loc[missing_outlet ,'Outlet_Type']"
   ]
  },
  {
   "cell_type": "markdown",
   "id": "8ab51474",
   "metadata": {},
   "source": [
    "#### Now we have seen from describe that item visibility has 0 value which makes no practical sense.so we will replace the 0 value with mean of the Item_Visibility"
   ]
  },
  {
   "cell_type": "code",
   "execution_count": 24,
   "id": "c34778b8",
   "metadata": {},
   "outputs": [
    {
     "data": {
      "text/plain": [
       "526"
      ]
     },
     "execution_count": 24,
     "metadata": {},
     "output_type": "execute_result"
    }
   ],
   "source": [
    "(df[\"Item_Visibility\"]==0).sum()"
   ]
  },
  {
   "cell_type": "code",
   "execution_count": 25,
   "id": "70c10db7",
   "metadata": {},
   "outputs": [
    {
     "data": {
      "text/plain": [
       "0       0.016047\n",
       "1       0.019278\n",
       "2       0.016760\n",
       "6       0.012741\n",
       "7       0.127470\n",
       "          ...   \n",
       "8518    0.056783\n",
       "8519    0.046982\n",
       "8520    0.035186\n",
       "8521    0.145221\n",
       "8522    0.044878\n",
       "Name: Item_Visibility, Length: 7997, dtype: float64"
      ]
     },
     "execution_count": 25,
     "metadata": {},
     "output_type": "execute_result"
    }
   ],
   "source": [
    "df.loc[df[\"Item_Visibility\"]!=0, \"Item_Visibility\"]"
   ]
  },
  {
   "cell_type": "code",
   "execution_count": 26,
   "id": "75704496",
   "metadata": {},
   "outputs": [],
   "source": [
    "df.loc[:, \"Item_Visibility\"].replace(0,df.loc[df[\"Item_Visibility\"]!=0, \"Item_Visibility\"].mean(), inplace=True)"
   ]
  },
  {
   "cell_type": "code",
   "execution_count": 27,
   "id": "a3ccc8ca",
   "metadata": {},
   "outputs": [
    {
     "data": {
      "text/plain": [
       "0"
      ]
     },
     "execution_count": 27,
     "metadata": {},
     "output_type": "execute_result"
    }
   ],
   "source": [
    "(df['Item_Visibility']==0).sum()"
   ]
  },
  {
   "cell_type": "markdown",
   "id": "da9ad3cb",
   "metadata": {},
   "source": [
    "Now from value counts we found that Item fat content has LF and low fat both so making them as single Low fat entry."
   ]
  },
  {
   "cell_type": "code",
   "execution_count": 28,
   "id": "c3f85655",
   "metadata": {},
   "outputs": [
    {
     "data": {
      "text/plain": [
       "array(['Low Fat', 'Regular', 'low fat', 'LF', 'reg'], dtype=object)"
      ]
     },
     "execution_count": 28,
     "metadata": {},
     "output_type": "execute_result"
    }
   ],
   "source": [
    "df[\"Item_Fat_Content\"].unique()"
   ]
  },
  {
   "cell_type": "code",
   "execution_count": 29,
   "id": "175c8181",
   "metadata": {},
   "outputs": [],
   "source": [
    "df[\"Item_Fat_Content\"].replace({'reg':'Regular','LF':'Low Fat', 'low fat':'Low Fat'}, inplace=True)"
   ]
  },
  {
   "cell_type": "code",
   "execution_count": 30,
   "id": "242aa147",
   "metadata": {},
   "outputs": [
    {
     "data": {
      "text/plain": [
       "array(['Low Fat', 'Regular'], dtype=object)"
      ]
     },
     "execution_count": 30,
     "metadata": {},
     "output_type": "execute_result"
    }
   ],
   "source": [
    "df[\"Item_Fat_Content\"].unique()"
   ]
  },
  {
   "cell_type": "code",
   "execution_count": null,
   "id": "f38461c2",
   "metadata": {},
   "outputs": [],
   "source": []
  },
  {
   "cell_type": "markdown",
   "id": "af0102bc",
   "metadata": {},
   "source": [
    "\n",
    "\n",
    "\n",
    "\n",
    "\n",
    "\n",
    "# Feature Engineering\n",
    "\n",
    "\n",
    "\n",
    "\n"
   ]
  },
  {
   "cell_type": "markdown",
   "id": "8dccb4bb",
   "metadata": {},
   "source": [
    "We will extract intial two word from item identifire and we can make new feature as new item type which will define wheather it is a food drinking or non consumable item."
   ]
  },
  {
   "cell_type": "code",
   "execution_count": 31,
   "id": "16b16937",
   "metadata": {},
   "outputs": [],
   "source": [
    "df[\"New_Item_Type\"]=df[\"Item_Identifier\"].apply(lambda x: x[:2])"
   ]
  },
  {
   "cell_type": "code",
   "execution_count": 32,
   "id": "76e8c9af",
   "metadata": {},
   "outputs": [
    {
     "data": {
      "text/plain": [
       "array(['FD', 'DR', 'NC'], dtype=object)"
      ]
     },
     "execution_count": 32,
     "metadata": {},
     "output_type": "execute_result"
    }
   ],
   "source": [
    "df[\"New_Item_Type\"].unique()"
   ]
  },
  {
   "cell_type": "code",
   "execution_count": 33,
   "id": "9c5c0adb",
   "metadata": {},
   "outputs": [],
   "source": [
    "df[\"New_Item_Type\"]=df[\"New_Item_Type\"].map({\"FD\":\"Food\", \"DR\":\"Drink\", \"NC\":\"Non-Consumable\"})"
   ]
  },
  {
   "cell_type": "code",
   "execution_count": 34,
   "id": "9706c842",
   "metadata": {},
   "outputs": [
    {
     "data": {
      "text/plain": [
       "array(['Food', 'Drink', 'Non-Consumable'], dtype=object)"
      ]
     },
     "execution_count": 34,
     "metadata": {},
     "output_type": "execute_result"
    }
   ],
   "source": [
    "df[\"New_Item_Type\"].unique()"
   ]
  },
  {
   "cell_type": "markdown",
   "id": "205b0bc0",
   "metadata": {},
   "source": [
    "Now we will check loaction of new item = nonconsumable and if item fat content is there making it as nonedible because item which is non cosumable can be eaten "
   ]
  },
  {
   "cell_type": "code",
   "execution_count": 35,
   "id": "8fa572f0",
   "metadata": {},
   "outputs": [
    {
     "data": {
      "text/plain": [
       "0       Low Fat\n",
       "1       Regular\n",
       "2       Low Fat\n",
       "3       Regular\n",
       "4       Low Fat\n",
       "         ...   \n",
       "8518    Low Fat\n",
       "8519    Regular\n",
       "8520    Low Fat\n",
       "8521    Regular\n",
       "8522    Low Fat\n",
       "Name: Item_Fat_Content, Length: 8523, dtype: object"
      ]
     },
     "execution_count": 35,
     "metadata": {},
     "output_type": "execute_result"
    }
   ],
   "source": [
    "df['Item_Fat_Content']"
   ]
  },
  {
   "cell_type": "code",
   "execution_count": 36,
   "id": "4f09274a",
   "metadata": {},
   "outputs": [
    {
     "data": {
      "text/plain": [
       "Low Fat       3918\n",
       "Regular       3006\n",
       "Non-Edible    1599\n",
       "Name: Item_Fat_Content, dtype: int64"
      ]
     },
     "execution_count": 36,
     "metadata": {},
     "output_type": "execute_result"
    }
   ],
   "source": [
    "df.loc[df['New_Item_Type']=='Non-Consumable','Item_Fat_Content']=\"Non-Edible\"\n",
    "df[\"Item_Fat_Content\"].value_counts()"
   ]
  },
  {
   "cell_type": "code",
   "execution_count": 37,
   "id": "97d946c5",
   "metadata": {},
   "outputs": [],
   "source": [
    "perishable = [\"Breads\", \"Breakfast\", \"Dairy\", \"Snack Foods\",\"Fruits and Vegetables\", \"Meat\", \"Seafood\", \"Starchy Foods\"]\n",
    "non_perishable = [\"Baking Goods\", \"Canned\", \"Frozen Foods\", \"Hard Drinks\", \"Health and Hygiene\",\"Household\", \"Soft Drinks\"]"
   ]
  },
  {
   "cell_type": "code",
   "execution_count": 38,
   "id": "de32e350",
   "metadata": {},
   "outputs": [],
   "source": [
    "def new_item_type(item):\n",
    "    if item in perishable:\n",
    "        return 'perishable'\n",
    "    if item in non_perishable:\n",
    "        return 'non_perishable'\n",
    "    else:\n",
    "        return 'not-known'"
   ]
  },
  {
   "cell_type": "code",
   "execution_count": 39,
   "id": "00dcd7cd",
   "metadata": {},
   "outputs": [],
   "source": [
    "df['Shelf_life'] = df['Item_Type'].apply(new_item_type)"
   ]
  },
  {
   "cell_type": "code",
   "execution_count": 40,
   "id": "24eee1bf",
   "metadata": {},
   "outputs": [
    {
     "data": {
      "text/plain": [
       "non_perishable    4242\n",
       "perishable        4112\n",
       "not-known          169\n",
       "Name: Shelf_life, dtype: int64"
      ]
     },
     "execution_count": 40,
     "metadata": {},
     "output_type": "execute_result"
    }
   ],
   "source": [
    "df['Shelf_life'].value_counts()"
   ]
  },
  {
   "cell_type": "code",
   "execution_count": 41,
   "id": "988b8d49",
   "metadata": {},
   "outputs": [],
   "source": [
    "df['MRP_per_unit_weight'] = df['Item_MRP']/df['Item_Weight']"
   ]
  },
  {
   "cell_type": "code",
   "execution_count": 42,
   "id": "6d5cd86c",
   "metadata": {},
   "outputs": [],
   "source": [
    "df['Outlet_Years'] = 2013 - df['Outlet_Establishment_Year']"
   ]
  },
  {
   "cell_type": "code",
   "execution_count": 43,
   "id": "62a0b92c",
   "metadata": {},
   "outputs": [
    {
     "data": {
      "text/html": [
       "<div>\n",
       "<style scoped>\n",
       "    .dataframe tbody tr th:only-of-type {\n",
       "        vertical-align: middle;\n",
       "    }\n",
       "\n",
       "    .dataframe tbody tr th {\n",
       "        vertical-align: top;\n",
       "    }\n",
       "\n",
       "    .dataframe thead th {\n",
       "        text-align: right;\n",
       "    }\n",
       "</style>\n",
       "<table border=\"1\" class=\"dataframe\">\n",
       "  <thead>\n",
       "    <tr style=\"text-align: right;\">\n",
       "      <th></th>\n",
       "      <th>Item_Identifier</th>\n",
       "      <th>Item_Weight</th>\n",
       "      <th>Item_Fat_Content</th>\n",
       "      <th>Item_Visibility</th>\n",
       "      <th>Item_Type</th>\n",
       "      <th>Item_MRP</th>\n",
       "      <th>Outlet_Identifier</th>\n",
       "      <th>Outlet_Establishment_Year</th>\n",
       "      <th>Outlet_Size</th>\n",
       "      <th>Outlet_Location_Type</th>\n",
       "      <th>Outlet_Type</th>\n",
       "      <th>Item_Outlet_Sales</th>\n",
       "      <th>New_Item_Type</th>\n",
       "      <th>Shelf_life</th>\n",
       "      <th>MRP_per_unit_weight</th>\n",
       "      <th>Outlet_Years</th>\n",
       "    </tr>\n",
       "  </thead>\n",
       "  <tbody>\n",
       "    <tr>\n",
       "      <th>0</th>\n",
       "      <td>FDA15</td>\n",
       "      <td>9.30</td>\n",
       "      <td>Low Fat</td>\n",
       "      <td>0.016047</td>\n",
       "      <td>Dairy</td>\n",
       "      <td>249.8092</td>\n",
       "      <td>OUT049</td>\n",
       "      <td>1999</td>\n",
       "      <td>Medium</td>\n",
       "      <td>Tier 1</td>\n",
       "      <td>Supermarket Type1</td>\n",
       "      <td>3735.1380</td>\n",
       "      <td>Food</td>\n",
       "      <td>perishable</td>\n",
       "      <td>26.861204</td>\n",
       "      <td>14</td>\n",
       "    </tr>\n",
       "    <tr>\n",
       "      <th>1</th>\n",
       "      <td>DRC01</td>\n",
       "      <td>5.92</td>\n",
       "      <td>Regular</td>\n",
       "      <td>0.019278</td>\n",
       "      <td>Soft Drinks</td>\n",
       "      <td>48.2692</td>\n",
       "      <td>OUT018</td>\n",
       "      <td>2009</td>\n",
       "      <td>Medium</td>\n",
       "      <td>Tier 3</td>\n",
       "      <td>Supermarket Type2</td>\n",
       "      <td>443.4228</td>\n",
       "      <td>Drink</td>\n",
       "      <td>non_perishable</td>\n",
       "      <td>8.153581</td>\n",
       "      <td>4</td>\n",
       "    </tr>\n",
       "    <tr>\n",
       "      <th>2</th>\n",
       "      <td>FDN15</td>\n",
       "      <td>17.50</td>\n",
       "      <td>Low Fat</td>\n",
       "      <td>0.016760</td>\n",
       "      <td>Meat</td>\n",
       "      <td>141.6180</td>\n",
       "      <td>OUT049</td>\n",
       "      <td>1999</td>\n",
       "      <td>Medium</td>\n",
       "      <td>Tier 1</td>\n",
       "      <td>Supermarket Type1</td>\n",
       "      <td>2097.2700</td>\n",
       "      <td>Food</td>\n",
       "      <td>perishable</td>\n",
       "      <td>8.092457</td>\n",
       "      <td>14</td>\n",
       "    </tr>\n",
       "    <tr>\n",
       "      <th>3</th>\n",
       "      <td>FDX07</td>\n",
       "      <td>19.20</td>\n",
       "      <td>Regular</td>\n",
       "      <td>0.070482</td>\n",
       "      <td>Fruits and Vegetables</td>\n",
       "      <td>182.0950</td>\n",
       "      <td>OUT010</td>\n",
       "      <td>1998</td>\n",
       "      <td>Small</td>\n",
       "      <td>Tier 3</td>\n",
       "      <td>Grocery Store</td>\n",
       "      <td>732.3800</td>\n",
       "      <td>Food</td>\n",
       "      <td>perishable</td>\n",
       "      <td>9.484115</td>\n",
       "      <td>15</td>\n",
       "    </tr>\n",
       "    <tr>\n",
       "      <th>4</th>\n",
       "      <td>NCD19</td>\n",
       "      <td>8.93</td>\n",
       "      <td>Non-Edible</td>\n",
       "      <td>0.070482</td>\n",
       "      <td>Household</td>\n",
       "      <td>53.8614</td>\n",
       "      <td>OUT013</td>\n",
       "      <td>1987</td>\n",
       "      <td>High</td>\n",
       "      <td>Tier 3</td>\n",
       "      <td>Supermarket Type1</td>\n",
       "      <td>994.7052</td>\n",
       "      <td>Non-Consumable</td>\n",
       "      <td>non_perishable</td>\n",
       "      <td>6.031512</td>\n",
       "      <td>26</td>\n",
       "    </tr>\n",
       "  </tbody>\n",
       "</table>\n",
       "</div>"
      ],
      "text/plain": [
       "  Item_Identifier  Item_Weight Item_Fat_Content  Item_Visibility  \\\n",
       "0           FDA15         9.30          Low Fat         0.016047   \n",
       "1           DRC01         5.92          Regular         0.019278   \n",
       "2           FDN15        17.50          Low Fat         0.016760   \n",
       "3           FDX07        19.20          Regular         0.070482   \n",
       "4           NCD19         8.93       Non-Edible         0.070482   \n",
       "\n",
       "               Item_Type  Item_MRP Outlet_Identifier  \\\n",
       "0                  Dairy  249.8092            OUT049   \n",
       "1            Soft Drinks   48.2692            OUT018   \n",
       "2                   Meat  141.6180            OUT049   \n",
       "3  Fruits and Vegetables  182.0950            OUT010   \n",
       "4              Household   53.8614            OUT013   \n",
       "\n",
       "   Outlet_Establishment_Year Outlet_Size Outlet_Location_Type  \\\n",
       "0                       1999      Medium               Tier 1   \n",
       "1                       2009      Medium               Tier 3   \n",
       "2                       1999      Medium               Tier 1   \n",
       "3                       1998       Small               Tier 3   \n",
       "4                       1987        High               Tier 3   \n",
       "\n",
       "         Outlet_Type  Item_Outlet_Sales   New_Item_Type      Shelf_life  \\\n",
       "0  Supermarket Type1          3735.1380            Food      perishable   \n",
       "1  Supermarket Type2           443.4228           Drink  non_perishable   \n",
       "2  Supermarket Type1          2097.2700            Food      perishable   \n",
       "3      Grocery Store           732.3800            Food      perishable   \n",
       "4  Supermarket Type1           994.7052  Non-Consumable  non_perishable   \n",
       "\n",
       "   MRP_per_unit_weight  Outlet_Years  \n",
       "0            26.861204            14  \n",
       "1             8.153581             4  \n",
       "2             8.092457            14  \n",
       "3             9.484115            15  \n",
       "4             6.031512            26  "
      ]
     },
     "execution_count": 43,
     "metadata": {},
     "output_type": "execute_result"
    }
   ],
   "source": [
    "df.head()"
   ]
  },
  {
   "cell_type": "markdown",
   "id": "41165835",
   "metadata": {},
   "source": [
    "#  Exploratory Data Analysis"
   ]
  },
  {
   "cell_type": "markdown",
   "id": "63759b35",
   "metadata": {},
   "source": [
    "### Visualizing Numerical Feature"
   ]
  },
  {
   "cell_type": "code",
   "execution_count": 44,
   "id": "7f197a3a",
   "metadata": {},
   "outputs": [
    {
     "data": {
      "image/png": "[encoded data removed]",
      "text/plain": [
       "<Figure size 800x600 with 1 Axes>"
      ]
     },
     "metadata": {},
     "output_type": "display_data"
    }
   ],
   "source": [
    "plt.figure(figsize=(8,6))\n",
    "sns.distplot(df['Item_Weight'], bins=20,kde=True)\n",
    "plt.show()"
   ]
  },
  {
   "cell_type": "code",
   "execution_count": 45,
   "id": "950d3e74",
   "metadata": {},
   "outputs": [
    {
     "data": {
      "image/png": "[encoded data removed]",
      "text/plain": [
       "<Figure size 640x480 with 1 Axes>"
      ]
     },
     "metadata": {},
     "output_type": "display_data"
    }
   ],
   "source": [
    "sns.distplot(df['Item_Visibility'], bins=20)\n",
    "plt.show()"
   ]
  },
  {
   "cell_type": "code",
   "execution_count": 46,
   "id": "7c03b617",
   "metadata": {},
   "outputs": [],
   "source": [
    "#df['Item_Visibility'] = np.log(df['Item_Visibility'])"
   ]
  },
  {
   "cell_type": "code",
   "execution_count": 47,
   "id": "c7017c03",
   "metadata": {},
   "outputs": [],
   "source": [
    "#sns.distplot(df['Item_Visibility'])"
   ]
  },
  {
   "cell_type": "code",
   "execution_count": 48,
   "id": "f249e5cd",
   "metadata": {},
   "outputs": [
    {
     "data": {
      "image/png": "[encoded data removed]",
      "text/plain": [
       "<Figure size 640x480 with 1 Axes>"
      ]
     },
     "metadata": {},
     "output_type": "display_data"
    }
   ],
   "source": [
    "sns.distplot(df['Item_MRP'], bins=20)\n",
    "plt.show()"
   ]
  },
  {
   "cell_type": "code",
   "execution_count": 49,
   "id": "fa56c4a0",
   "metadata": {},
   "outputs": [
    {
     "data": {
      "text/plain": [
       "<AxesSubplot:xlabel='Item_MRP', ylabel='Density'>"
      ]
     },
     "execution_count": 49,
     "metadata": {},
     "output_type": "execute_result"
    },
    {
     "data": {
      "image/png": "[encoded data removed]",
      "text/plain": [
       "<Figure size 800x600 with 1 Axes>"
      ]
     },
     "metadata": {},
     "output_type": "display_data"
    }
   ],
   "source": [
    "plt.figure(figsize=(8,6))\n",
    "sns.distplot(df['Item_MRP'], bins=20)"
   ]
  },
  {
   "cell_type": "code",
   "execution_count": 50,
   "id": "71cf0dc3",
   "metadata": {},
   "outputs": [
    {
     "data": {
      "image/png": "[encoded data removed]",
      "text/plain": [
       "<Figure size 800x600 with 1 Axes>"
      ]
     },
     "metadata": {},
     "output_type": "display_data"
    }
   ],
   "source": [
    "plt.figure(figsize=(8,6))\n",
    "sns.distplot(df['Item_Outlet_Sales'], bins=20)\n",
    "plt.show()"
   ]
  },
  {
   "cell_type": "markdown",
   "id": "29eff541",
   "metadata": {},
   "source": [
    "Here item outlet sales is right skewed so we have to make it normally distributed so applying log transformation."
   ]
  },
  {
   "cell_type": "code",
   "execution_count": 51,
   "id": "d70083a2",
   "metadata": {},
   "outputs": [],
   "source": [
    "df['Item_Outlet_Sales'] = np.log(df['Item_Outlet_Sales'])"
   ]
  },
  {
   "cell_type": "code",
   "execution_count": 52,
   "id": "4220c1b4",
   "metadata": {},
   "outputs": [
    {
     "data": {
      "text/plain": [
       "<AxesSubplot:xlabel='Item_Outlet_Sales', ylabel='Density'>"
      ]
     },
     "execution_count": 52,
     "metadata": {},
     "output_type": "execute_result"
    },
    {
     "data": {
      "image/png": "[encoded data removed]",
      "text/plain": [
       "<Figure size 800x600 with 1 Axes>"
      ]
     },
     "metadata": {},
     "output_type": "display_data"
    }
   ],
   "source": [
    "plt.figure(figsize=(8,6))\n",
    "sns.distplot(df['Item_Outlet_Sales'], bins=20)"
   ]
  },
  {
   "cell_type": "markdown",
   "id": "ceeb7567",
   "metadata": {},
   "source": [
    "## Visualizing Categorical Feature"
   ]
  },
  {
   "cell_type": "code",
   "execution_count": 53,
   "id": "a84e210d",
   "metadata": {
    "scrolled": true
   },
   "outputs": [
    {
     "data": {
      "image/png": "[encoded data removed]",
      "text/plain": [
       "<Figure size 800x600 with 1 Axes>"
      ]
     },
     "metadata": {},
     "output_type": "display_data"
    }
   ],
   "source": [
    "plt.figure(figsize=(8,6))\n",
    "C_item_type = sns.countplot(df['Item_Type'])\n",
    "C_item_type.set_xticklabels(C_item_type.get_xticklabels(), rotation=80)\n",
    "None"
   ]
  },
  {
   "cell_type": "code",
   "execution_count": 54,
   "id": "92ec216b",
   "metadata": {},
   "outputs": [
    {
     "data": {
      "image/png": "[encoded data removed]",
      "text/plain": [
       "<Figure size 800x600 with 1 Axes>"
      ]
     },
     "metadata": {},
     "output_type": "display_data"
    }
   ],
   "source": [
    "plt.figure(figsize=(8,6))\n",
    "C_Outlet_Type = sns.countplot(df['Outlet_Type'])\n",
    "C_Outlet_Type .set_xticklabels(C_Outlet_Type .get_xticklabels(), rotation=45)\n",
    "None"
   ]
  },
  {
   "cell_type": "code",
   "execution_count": 55,
   "id": "cf52d7d3",
   "metadata": {},
   "outputs": [
    {
     "data": {
      "image/png": "[encoded data removed]",
      "text/plain": [
       "<Figure size 800x600 with 1 Axes>"
      ]
     },
     "metadata": {},
     "output_type": "display_data"
    }
   ],
   "source": [
    "plt.figure(figsize=(8,6))\n",
    "C_Outlet_Size = sns.countplot(df['Outlet_Size'])\n",
    "C_Outlet_Size.set_xticklabels(C_Outlet_Size.get_xticklabels(), rotation=45)\n",
    "None"
   ]
  },
  {
   "cell_type": "code",
   "execution_count": 56,
   "id": "9aef92e9",
   "metadata": {},
   "outputs": [
    {
     "data": {
      "image/png": "[encoded data removed]",
      "text/plain": [
       "<Figure size 800x600 with 1 Axes>"
      ]
     },
     "metadata": {},
     "output_type": "display_data"
    }
   ],
   "source": [
    "plt.figure(figsize=(8,6))\n",
    "C_Item_Fat_Content = sns.countplot(df['Item_Fat_Content'])\n",
    "C_Item_Fat_Content .set_xticklabels(C_Item_Fat_Content .get_xticklabels(), rotation=45)\n",
    "None"
   ]
  },
  {
   "cell_type": "markdown",
   "id": "1505fe04",
   "metadata": {},
   "source": [
    "Most of the item are in our data set are low fat content"
   ]
  },
  {
   "cell_type": "code",
   "execution_count": 57,
   "id": "d0430879",
   "metadata": {},
   "outputs": [
    {
     "data": {
      "image/png": "[encoded data removed]",
      "text/plain": [
       "<Figure size 800x600 with 1 Axes>"
      ]
     },
     "metadata": {},
     "output_type": "display_data"
    }
   ],
   "source": [
    "plt.figure(figsize=(8,6))\n",
    "C_Outlet_Location_Type = sns.countplot(df['Outlet_Location_Type'])\n",
    "C_Outlet_Location_Type.set_xticklabels(C_Outlet_Location_Type.get_xticklabels(), rotation=45)\n",
    "None"
   ]
  },
  {
   "cell_type": "markdown",
   "id": "e2f6feee",
   "metadata": {},
   "source": [
    "### Bivariate analysis"
   ]
  },
  {
   "cell_type": "code",
   "execution_count": 58,
   "id": "1694560d",
   "metadata": {},
   "outputs": [
    {
     "data": {
      "image/png": "[encoded data removed]",
      "text/plain": [
       "<Figure size 800x600 with 1 Axes>"
      ]
     },
     "metadata": {},
     "output_type": "display_data"
    }
   ],
   "source": [
    "#average sales outlet_type wise\n",
    "plt.figure(figsize=(8,6))\n",
    "C_OutletType = sns.barplot(x= 'Outlet_Location_Type', y = np.exp(df['Item_Outlet_Sales']) , data=df)\n",
    "C_OutletType.set_xticklabels(C_OutletType.get_xticklabels(), rotation=45)\n",
    "plt.title('Outlet_Location_Type vs Items Sales',fontsize=16)\n",
    "None"
   ]
  },
  {
   "cell_type": "code",
   "execution_count": 59,
   "id": "4ceb98da",
   "metadata": {},
   "outputs": [
    {
     "data": {
      "image/png": "[encoded data removed]",
      "text/plain": [
       "<Figure size 800x600 with 1 Axes>"
      ]
     },
     "metadata": {},
     "output_type": "display_data"
    }
   ],
   "source": [
    "plt.figure(figsize=(8,6))\n",
    "C_OutletType = sns.barplot(x= 'Outlet_Type', y = np.exp(df['Item_Outlet_Sales']) , data=df)\n",
    "C_OutletType.set_xticklabels(C_OutletType.get_xticklabels(), rotation=45)\n",
    "plt.title('Outlet Type vs Items Sales',fontsize=16)\n",
    "None"
   ]
  },
  {
   "cell_type": "code",
   "execution_count": 60,
   "id": "ae2207ca",
   "metadata": {},
   "outputs": [
    {
     "data": {
      "image/png": "[encoded data removed]",
      "text/plain": [
       "<Figure size 800x600 with 1 Axes>"
      ]
     },
     "metadata": {},
     "output_type": "display_data"
    }
   ],
   "source": [
    "plt.figure(figsize=(8,6))\n",
    "C_OutletType = sns.barplot(x= 'Outlet_Size', y = np.exp(df['Item_Outlet_Sales']) , data=df)\n",
    "C_OutletType.set_xticklabels(C_OutletType.get_xticklabels(), rotation=45)\n",
    "plt.title('Outlet_Size vs Items Sales',fontsize=16)\n",
    "None"
   ]
  },
  {
   "cell_type": "code",
   "execution_count": 61,
   "id": "0e2cec9f",
   "metadata": {},
   "outputs": [
    {
     "data": {
      "image/png": "[encoded data removed]",
      "text/plain": [
       "<Figure size 1000x800 with 1 Axes>"
      ]
     },
     "metadata": {},
     "output_type": "display_data"
    }
   ],
   "source": [
    "plt.figure(figsize=(10,8))\n",
    "C_OutletType = sns.barplot(x= 'Item_Type', y = np.exp(df['Item_Outlet_Sales']) , data=df)\n",
    "C_OutletType.set_xticklabels(C_OutletType.get_xticklabels(), rotation=90)\n",
    "plt.title('Item_Type vs Items Sales',fontsize=16)\n",
    "None"
   ]
  },
  {
   "cell_type": "code",
   "execution_count": 62,
   "id": "c67178a5",
   "metadata": {},
   "outputs": [
    {
     "data": {
      "text/html": [
       "<div>\n",
       "<style scoped>\n",
       "    .dataframe tbody tr th:only-of-type {\n",
       "        vertical-align: middle;\n",
       "    }\n",
       "\n",
       "    .dataframe tbody tr th {\n",
       "        vertical-align: top;\n",
       "    }\n",
       "\n",
       "    .dataframe thead th {\n",
       "        text-align: right;\n",
       "    }\n",
       "</style>\n",
       "<table border=\"1\" class=\"dataframe\">\n",
       "  <thead>\n",
       "    <tr style=\"text-align: right;\">\n",
       "      <th></th>\n",
       "      <th>Item_Weight</th>\n",
       "      <th>Item_Visibility</th>\n",
       "      <th>Item_MRP</th>\n",
       "      <th>Outlet_Establishment_Year</th>\n",
       "      <th>Item_Outlet_Sales</th>\n",
       "      <th>MRP_per_unit_weight</th>\n",
       "      <th>Outlet_Years</th>\n",
       "    </tr>\n",
       "  </thead>\n",
       "  <tbody>\n",
       "    <tr>\n",
       "      <th>Item_Weight</th>\n",
       "      <td>1.000000</td>\n",
       "      <td>-0.017763</td>\n",
       "      <td>0.024756</td>\n",
       "      <td>-0.008301</td>\n",
       "      <td>0.008050</td>\n",
       "      <td>-0.585147</td>\n",
       "      <td>0.008301</td>\n",
       "    </tr>\n",
       "    <tr>\n",
       "      <th>Item_Visibility</th>\n",
       "      <td>-0.017763</td>\n",
       "      <td>1.000000</td>\n",
       "      <td>-0.005515</td>\n",
       "      <td>-0.078316</td>\n",
       "      <td>-0.202471</td>\n",
       "      <td>-0.005060</td>\n",
       "      <td>0.078316</td>\n",
       "    </tr>\n",
       "    <tr>\n",
       "      <th>Item_MRP</th>\n",
       "      <td>0.024756</td>\n",
       "      <td>-0.005515</td>\n",
       "      <td>1.000000</td>\n",
       "      <td>0.005020</td>\n",
       "      <td>0.509671</td>\n",
       "      <td>0.707961</td>\n",
       "      <td>-0.005020</td>\n",
       "    </tr>\n",
       "    <tr>\n",
       "      <th>Outlet_Establishment_Year</th>\n",
       "      <td>-0.008301</td>\n",
       "      <td>-0.078316</td>\n",
       "      <td>0.005020</td>\n",
       "      <td>1.000000</td>\n",
       "      <td>0.077240</td>\n",
       "      <td>0.071195</td>\n",
       "      <td>-1.000000</td>\n",
       "    </tr>\n",
       "    <tr>\n",
       "      <th>Item_Outlet_Sales</th>\n",
       "      <td>0.008050</td>\n",
       "      <td>-0.202471</td>\n",
       "      <td>0.509671</td>\n",
       "      <td>0.077240</td>\n",
       "      <td>1.000000</td>\n",
       "      <td>0.365892</td>\n",
       "      <td>-0.077240</td>\n",
       "    </tr>\n",
       "    <tr>\n",
       "      <th>MRP_per_unit_weight</th>\n",
       "      <td>-0.585147</td>\n",
       "      <td>-0.005060</td>\n",
       "      <td>0.707961</td>\n",
       "      <td>0.071195</td>\n",
       "      <td>0.365892</td>\n",
       "      <td>1.000000</td>\n",
       "      <td>-0.071195</td>\n",
       "    </tr>\n",
       "    <tr>\n",
       "      <th>Outlet_Years</th>\n",
       "      <td>0.008301</td>\n",
       "      <td>0.078316</td>\n",
       "      <td>-0.005020</td>\n",
       "      <td>-1.000000</td>\n",
       "      <td>-0.077240</td>\n",
       "      <td>-0.071195</td>\n",
       "      <td>1.000000</td>\n",
       "    </tr>\n",
       "  </tbody>\n",
       "</table>\n",
       "</div>"
      ],
      "text/plain": [
       "                           Item_Weight  Item_Visibility  Item_MRP  \\\n",
       "Item_Weight                   1.000000        -0.017763  0.024756   \n",
       "Item_Visibility              -0.017763         1.000000 -0.005515   \n",
       "Item_MRP                      0.024756        -0.005515  1.000000   \n",
       "Outlet_Establishment_Year    -0.008301        -0.078316  0.005020   \n",
       "Item_Outlet_Sales             0.008050        -0.202471  0.509671   \n",
       "MRP_per_unit_weight          -0.585147        -0.005060  0.707961   \n",
       "Outlet_Years                  0.008301         0.078316 -0.005020   \n",
       "\n",
       "                           Outlet_Establishment_Year  Item_Outlet_Sales  \\\n",
       "Item_Weight                                -0.008301           0.008050   \n",
       "Item_Visibility                            -0.078316          -0.202471   \n",
       "Item_MRP                                    0.005020           0.509671   \n",
       "Outlet_Establishment_Year                   1.000000           0.077240   \n",
       "Item_Outlet_Sales                           0.077240           1.000000   \n",
       "MRP_per_unit_weight                         0.071195           0.365892   \n",
       "Outlet_Years                               -1.000000          -0.077240   \n",
       "\n",
       "                           MRP_per_unit_weight  Outlet_Years  \n",
       "Item_Weight                          -0.585147      0.008301  \n",
       "Item_Visibility                      -0.005060      0.078316  \n",
       "Item_MRP                              0.707961     -0.005020  \n",
       "Outlet_Establishment_Year             0.071195     -1.000000  \n",
       "Item_Outlet_Sales                     0.365892     -0.077240  \n",
       "MRP_per_unit_weight                   1.000000     -0.071195  \n",
       "Outlet_Years                         -0.071195      1.000000  "
      ]
     },
     "execution_count": 62,
     "metadata": {},
     "output_type": "execute_result"
    }
   ],
   "source": [
    "df.corr()"
   ]
  },
  {
   "cell_type": "code",
   "execution_count": 63,
   "id": "3052ec46",
   "metadata": {},
   "outputs": [
    {
     "data": {
      "text/plain": [
       "<AxesSubplot:>"
      ]
     },
     "execution_count": 63,
     "metadata": {},
     "output_type": "execute_result"
    },
    {
     "data": {
      "image/png": "[encoded data removed]",
      "text/plain": [
       "<Figure size 800x600 with 2 Axes>"
      ]
     },
     "metadata": {},
     "output_type": "display_data"
    }
   ],
   "source": [
    "plt.figure(figsize=(8, 6))\n",
    "sns.heatmap(df.corr(),annot=True)"
   ]
  },
  {
   "cell_type": "markdown",
   "id": "dab50366",
   "metadata": {},
   "source": [
    "There is no significat correlation observed except Item_MRP vs Item_Outlet_Sales, the MRP of items increases the sales is also increas"
   ]
  },
  {
   "cell_type": "markdown",
   "id": "17760611",
   "metadata": {},
   "source": [
    "#### We will look into outlet total sale by different feature wise using pivot table"
   ]
  },
  {
   "cell_type": "code",
   "execution_count": 64,
   "id": "9fdf7254",
   "metadata": {},
   "outputs": [
    {
     "data": {
      "text/html": [
       "<div>\n",
       "<style scoped>\n",
       "    .dataframe tbody tr th:only-of-type {\n",
       "        vertical-align: middle;\n",
       "    }\n",
       "\n",
       "    .dataframe tbody tr th {\n",
       "        vertical-align: top;\n",
       "    }\n",
       "\n",
       "    .dataframe thead th {\n",
       "        text-align: right;\n",
       "    }\n",
       "</style>\n",
       "<table border=\"1\" class=\"dataframe\">\n",
       "  <thead>\n",
       "    <tr style=\"text-align: right;\">\n",
       "      <th></th>\n",
       "      <th></th>\n",
       "      <th></th>\n",
       "      <th>Item_Outlet_Sales</th>\n",
       "    </tr>\n",
       "    <tr>\n",
       "      <th>Outlet_Location_Type</th>\n",
       "      <th>Outlet_Type</th>\n",
       "      <th>Outlet_Size</th>\n",
       "      <th></th>\n",
       "    </tr>\n",
       "  </thead>\n",
       "  <tbody>\n",
       "    <tr>\n",
       "      <th rowspan=\"3\" valign=\"top\">Tier 1</th>\n",
       "      <th>Grocery Store</th>\n",
       "      <th>Small</th>\n",
       "      <td>2934.09</td>\n",
       "    </tr>\n",
       "    <tr>\n",
       "      <th rowspan=\"2\" valign=\"top\">Supermarket Type1</th>\n",
       "      <th>Medium</th>\n",
       "      <td>7002.77</td>\n",
       "    </tr>\n",
       "    <tr>\n",
       "      <th>Small</th>\n",
       "      <td>6974.51</td>\n",
       "    </tr>\n",
       "    <tr>\n",
       "      <th>Tier 2</th>\n",
       "      <th>Supermarket Type1</th>\n",
       "      <th>Small</th>\n",
       "      <td>20930.93</td>\n",
       "    </tr>\n",
       "    <tr>\n",
       "      <th rowspan=\"4\" valign=\"top\">Tier 3</th>\n",
       "      <th>Grocery Store</th>\n",
       "      <th>Small</th>\n",
       "      <td>3072.10</td>\n",
       "    </tr>\n",
       "    <tr>\n",
       "      <th>Supermarket Type1</th>\n",
       "      <th>High</th>\n",
       "      <td>6966.83</td>\n",
       "    </tr>\n",
       "    <tr>\n",
       "      <th>Supermarket Type2</th>\n",
       "      <th>Medium</th>\n",
       "      <td>6803.31</td>\n",
       "    </tr>\n",
       "    <tr>\n",
       "      <th>Supermarket Type3</th>\n",
       "      <th>Medium</th>\n",
       "      <td>7503.88</td>\n",
       "    </tr>\n",
       "  </tbody>\n",
       "</table>\n",
       "</div>"
      ],
      "text/plain": [
       "                                                    Item_Outlet_Sales\n",
       "Outlet_Location_Type Outlet_Type       Outlet_Size                   \n",
       "Tier 1               Grocery Store     Small                  2934.09\n",
       "                     Supermarket Type1 Medium                 7002.77\n",
       "                                       Small                  6974.51\n",
       "Tier 2               Supermarket Type1 Small                 20930.93\n",
       "Tier 3               Grocery Store     Small                  3072.10\n",
       "                     Supermarket Type1 High                   6966.83\n",
       "                     Supermarket Type2 Medium                 6803.31\n",
       "                     Supermarket Type3 Medium                 7503.88"
      ]
     },
     "execution_count": 64,
     "metadata": {},
     "output_type": "execute_result"
    }
   ],
   "source": [
    "pd.options.display.float_format='{:.2f}'.format\n",
    "df.pivot_table(values=\"Item_Outlet_Sales\"  ,index=['Outlet_Location_Type','Outlet_Type','Outlet_Size'],aggfunc = np.sum)"
   ]
  },
  {
   "cell_type": "code",
   "execution_count": 65,
   "id": "137f01b1",
   "metadata": {},
   "outputs": [
    {
     "data": {
      "text/html": [
       "<div>\n",
       "<style scoped>\n",
       "    .dataframe tbody tr th:only-of-type {\n",
       "        vertical-align: middle;\n",
       "    }\n",
       "\n",
       "    .dataframe tbody tr th {\n",
       "        vertical-align: top;\n",
       "    }\n",
       "\n",
       "    .dataframe thead th {\n",
       "        text-align: right;\n",
       "    }\n",
       "</style>\n",
       "<table border=\"1\" class=\"dataframe\">\n",
       "  <thead>\n",
       "    <tr style=\"text-align: right;\">\n",
       "      <th></th>\n",
       "      <th></th>\n",
       "      <th></th>\n",
       "      <th>Item_Outlet_Sales</th>\n",
       "    </tr>\n",
       "    <tr>\n",
       "      <th>Item_Fat_Content</th>\n",
       "      <th>New_Item_Type</th>\n",
       "      <th>Item_Type</th>\n",
       "      <th></th>\n",
       "    </tr>\n",
       "  </thead>\n",
       "  <tbody>\n",
       "    <tr>\n",
       "      <th rowspan=\"14\" valign=\"top\">Low Fat</th>\n",
       "      <th rowspan=\"3\" valign=\"top\">Drink</th>\n",
       "      <th>Dairy</th>\n",
       "      <td>982.94</td>\n",
       "    </tr>\n",
       "    <tr>\n",
       "      <th>Hard Drinks</th>\n",
       "      <td>1557.79</td>\n",
       "    </tr>\n",
       "    <tr>\n",
       "      <th>Soft Drinks</th>\n",
       "      <td>2709.10</td>\n",
       "    </tr>\n",
       "    <tr>\n",
       "      <th rowspan=\"11\" valign=\"top\">Food</th>\n",
       "      <th>Baking Goods</th>\n",
       "      <td>2333.49</td>\n",
       "    </tr>\n",
       "    <tr>\n",
       "      <th>Breads</th>\n",
       "      <td>1028.04</td>\n",
       "    </tr>\n",
       "    <tr>\n",
       "      <th>Breakfast</th>\n",
       "      <td>299.85</td>\n",
       "    </tr>\n",
       "    <tr>\n",
       "      <th>Canned</th>\n",
       "      <td>2510.05</td>\n",
       "    </tr>\n",
       "    <tr>\n",
       "      <th>Dairy</th>\n",
       "      <td>2035.26</td>\n",
       "    </tr>\n",
       "    <tr>\n",
       "      <th>Frozen Foods</th>\n",
       "      <td>3247.07</td>\n",
       "    </tr>\n",
       "    <tr>\n",
       "      <th>Fruits and Vegetables</th>\n",
       "      <td>4592.57</td>\n",
       "    </tr>\n",
       "    <tr>\n",
       "      <th>Meat</th>\n",
       "      <td>1223.08</td>\n",
       "    </tr>\n",
       "    <tr>\n",
       "      <th>Seafood</th>\n",
       "      <td>261.62</td>\n",
       "    </tr>\n",
       "    <tr>\n",
       "      <th>Snack Foods</th>\n",
       "      <td>5159.19</td>\n",
       "    </tr>\n",
       "    <tr>\n",
       "      <th>Starchy Foods</th>\n",
       "      <td>613.15</td>\n",
       "    </tr>\n",
       "    <tr>\n",
       "      <th rowspan=\"3\" valign=\"top\">Non-Edible</th>\n",
       "      <th rowspan=\"3\" valign=\"top\">Non-Consumable</th>\n",
       "      <th>Health and Hygiene</th>\n",
       "      <td>3759.71</td>\n",
       "    </tr>\n",
       "    <tr>\n",
       "      <th>Household</th>\n",
       "      <td>6680.84</td>\n",
       "    </tr>\n",
       "    <tr>\n",
       "      <th>Others</th>\n",
       "      <td>1210.41</td>\n",
       "    </tr>\n",
       "    <tr>\n",
       "      <th rowspan=\"12\" valign=\"top\">Regular</th>\n",
       "      <th>Drink</th>\n",
       "      <th>Soft Drinks</th>\n",
       "      <td>501.21</td>\n",
       "    </tr>\n",
       "    <tr>\n",
       "      <th rowspan=\"11\" valign=\"top\">Food</th>\n",
       "      <th>Baking Goods</th>\n",
       "      <td>2319.82</td>\n",
       "    </tr>\n",
       "    <tr>\n",
       "      <th>Breads</th>\n",
       "      <td>813.61</td>\n",
       "    </tr>\n",
       "    <tr>\n",
       "      <th>Breakfast</th>\n",
       "      <td>487.37</td>\n",
       "    </tr>\n",
       "    <tr>\n",
       "      <th>Canned</th>\n",
       "      <td>2263.01</td>\n",
       "    </tr>\n",
       "    <tr>\n",
       "      <th>Dairy</th>\n",
       "      <td>1948.52</td>\n",
       "    </tr>\n",
       "    <tr>\n",
       "      <th>Frozen Foods</th>\n",
       "      <td>2957.12</td>\n",
       "    </tr>\n",
       "    <tr>\n",
       "      <th>Fruits and Vegetables</th>\n",
       "      <td>4456.80</td>\n",
       "    </tr>\n",
       "    <tr>\n",
       "      <th>Meat</th>\n",
       "      <td>1872.75</td>\n",
       "    </tr>\n",
       "    <tr>\n",
       "      <th>Seafood</th>\n",
       "      <td>203.42</td>\n",
       "    </tr>\n",
       "    <tr>\n",
       "      <th>Snack Foods</th>\n",
       "      <td>3680.30</td>\n",
       "    </tr>\n",
       "    <tr>\n",
       "      <th>Starchy Foods</th>\n",
       "      <td>480.33</td>\n",
       "    </tr>\n",
       "  </tbody>\n",
       "</table>\n",
       "</div>"
      ],
      "text/plain": [
       "                                                       Item_Outlet_Sales\n",
       "Item_Fat_Content New_Item_Type  Item_Type                               \n",
       "Low Fat          Drink          Dairy                             982.94\n",
       "                                Hard Drinks                      1557.79\n",
       "                                Soft Drinks                      2709.10\n",
       "                 Food           Baking Goods                     2333.49\n",
       "                                Breads                           1028.04\n",
       "                                Breakfast                         299.85\n",
       "                                Canned                           2510.05\n",
       "                                Dairy                            2035.26\n",
       "                                Frozen Foods                     3247.07\n",
       "                                Fruits and Vegetables            4592.57\n",
       "                                Meat                             1223.08\n",
       "                                Seafood                           261.62\n",
       "                                Snack Foods                      5159.19\n",
       "                                Starchy Foods                     613.15\n",
       "Non-Edible       Non-Consumable Health and Hygiene               3759.71\n",
       "                                Household                        6680.84\n",
       "                                Others                           1210.41\n",
       "Regular          Drink          Soft Drinks                       501.21\n",
       "                 Food           Baking Goods                     2319.82\n",
       "                                Breads                            813.61\n",
       "                                Breakfast                         487.37\n",
       "                                Canned                           2263.01\n",
       "                                Dairy                            1948.52\n",
       "                                Frozen Foods                     2957.12\n",
       "                                Fruits and Vegetables            4456.80\n",
       "                                Meat                             1872.75\n",
       "                                Seafood                           203.42\n",
       "                                Snack Foods                      3680.30\n",
       "                                Starchy Foods                     480.33"
      ]
     },
     "execution_count": 65,
     "metadata": {},
     "output_type": "execute_result"
    }
   ],
   "source": [
    "df.pivot_table(values = 'Item_Outlet_Sales' , index = ['Item_Fat_Content','New_Item_Type','Item_Type'], aggfunc = np.sum )"
   ]
  },
  {
   "cell_type": "code",
   "execution_count": 66,
   "id": "5500c5fe",
   "metadata": {},
   "outputs": [
    {
     "data": {
      "text/html": [
       "<div>\n",
       "<style scoped>\n",
       "    .dataframe tbody tr th:only-of-type {\n",
       "        vertical-align: middle;\n",
       "    }\n",
       "\n",
       "    .dataframe tbody tr th {\n",
       "        vertical-align: top;\n",
       "    }\n",
       "\n",
       "    .dataframe thead th {\n",
       "        text-align: right;\n",
       "    }\n",
       "</style>\n",
       "<table border=\"1\" class=\"dataframe\">\n",
       "  <thead>\n",
       "    <tr style=\"text-align: right;\">\n",
       "      <th></th>\n",
       "      <th></th>\n",
       "      <th>Item_Outlet_Sales</th>\n",
       "    </tr>\n",
       "    <tr>\n",
       "      <th>Outlet_Size</th>\n",
       "      <th>Outlet_Identifier</th>\n",
       "      <th></th>\n",
       "    </tr>\n",
       "  </thead>\n",
       "  <tbody>\n",
       "    <tr>\n",
       "      <th>High</th>\n",
       "      <th>OUT013</th>\n",
       "      <td>6966.83</td>\n",
       "    </tr>\n",
       "    <tr>\n",
       "      <th rowspan=\"3\" valign=\"top\">Medium</th>\n",
       "      <th>OUT018</th>\n",
       "      <td>6803.31</td>\n",
       "    </tr>\n",
       "    <tr>\n",
       "      <th>OUT027</th>\n",
       "      <td>7503.88</td>\n",
       "    </tr>\n",
       "    <tr>\n",
       "      <th>OUT049</th>\n",
       "      <td>7002.77</td>\n",
       "    </tr>\n",
       "    <tr>\n",
       "      <th rowspan=\"6\" valign=\"top\">Small</th>\n",
       "      <th>OUT010</th>\n",
       "      <td>3072.10</td>\n",
       "    </tr>\n",
       "    <tr>\n",
       "      <th>OUT017</th>\n",
       "      <td>6961.08</td>\n",
       "    </tr>\n",
       "    <tr>\n",
       "      <th>OUT019</th>\n",
       "      <td>2934.09</td>\n",
       "    </tr>\n",
       "    <tr>\n",
       "      <th>OUT035</th>\n",
       "      <td>7041.96</td>\n",
       "    </tr>\n",
       "    <tr>\n",
       "      <th>OUT045</th>\n",
       "      <td>6927.89</td>\n",
       "    </tr>\n",
       "    <tr>\n",
       "      <th>OUT046</th>\n",
       "      <td>6974.51</td>\n",
       "    </tr>\n",
       "  </tbody>\n",
       "</table>\n",
       "</div>"
      ],
      "text/plain": [
       "                               Item_Outlet_Sales\n",
       "Outlet_Size Outlet_Identifier                   \n",
       "High        OUT013                       6966.83\n",
       "Medium      OUT018                       6803.31\n",
       "            OUT027                       7503.88\n",
       "            OUT049                       7002.77\n",
       "Small       OUT010                       3072.10\n",
       "            OUT017                       6961.08\n",
       "            OUT019                       2934.09\n",
       "            OUT035                       7041.96\n",
       "            OUT045                       6927.89\n",
       "            OUT046                       6974.51"
      ]
     },
     "execution_count": 66,
     "metadata": {},
     "output_type": "execute_result"
    }
   ],
   "source": [
    "df.pivot_table(values=['Item_Outlet_Sales'],index=['Outlet_Size','Outlet_Identifier'],aggfunc=np.sum)"
   ]
  },
  {
   "cell_type": "markdown",
   "id": "8227b3c5",
   "metadata": {},
   "source": [
    "# Data Pre-Processing"
   ]
  },
  {
   "cell_type": "markdown",
   "id": "5de2f3b9",
   "metadata": {},
   "source": [
    "#### Label Encoding"
   ]
  },
  {
   "cell_type": "code",
   "execution_count": 67,
   "id": "24e26b57",
   "metadata": {},
   "outputs": [],
   "source": [
    "# Label encoder for variables which have internal dependency\n",
    "from sklearn.preprocessing import LabelEncoder\n",
    "le=LabelEncoder()\n"
   ]
  },
  {
   "cell_type": "code",
   "execution_count": 68,
   "id": "afd6101a",
   "metadata": {},
   "outputs": [],
   "source": [
    "df[\"Outlet\"]=le.fit_transform(df[\"Outlet_Identifier\"])"
   ]
  },
  {
   "cell_type": "markdown",
   "id": "50af77b9",
   "metadata": {},
   "source": [
    "#### One hot encoding"
   ]
  },
  {
   "cell_type": "code",
   "execution_count": 69,
   "id": "848add60",
   "metadata": {},
   "outputs": [],
   "source": [
    "#one hot encoding for variables which have no internal dependency\n",
    "df = pd.get_dummies(df,columns=['Outlet_Type','Item_Fat_Content','New_Item_Type','Outlet_Size','Outlet_Location_Type'])"
   ]
  },
  {
   "cell_type": "code",
   "execution_count": 70,
   "id": "cae5da1e",
   "metadata": {},
   "outputs": [
    {
     "data": {
      "text/html": [
       "<div>\n",
       "<style scoped>\n",
       "    .dataframe tbody tr th:only-of-type {\n",
       "        vertical-align: middle;\n",
       "    }\n",
       "\n",
       "    .dataframe tbody tr th {\n",
       "        vertical-align: top;\n",
       "    }\n",
       "\n",
       "    .dataframe thead th {\n",
       "        text-align: right;\n",
       "    }\n",
       "</style>\n",
       "<table border=\"1\" class=\"dataframe\">\n",
       "  <thead>\n",
       "    <tr style=\"text-align: right;\">\n",
       "      <th></th>\n",
       "      <th>0</th>\n",
       "      <th>1</th>\n",
       "      <th>2</th>\n",
       "      <th>3</th>\n",
       "      <th>4</th>\n",
       "    </tr>\n",
       "  </thead>\n",
       "  <tbody>\n",
       "    <tr>\n",
       "      <th>Item_Identifier</th>\n",
       "      <td>FDA15</td>\n",
       "      <td>DRC01</td>\n",
       "      <td>FDN15</td>\n",
       "      <td>FDX07</td>\n",
       "      <td>NCD19</td>\n",
       "    </tr>\n",
       "    <tr>\n",
       "      <th>Item_Weight</th>\n",
       "      <td>9.30</td>\n",
       "      <td>5.92</td>\n",
       "      <td>17.50</td>\n",
       "      <td>19.20</td>\n",
       "      <td>8.93</td>\n",
       "    </tr>\n",
       "    <tr>\n",
       "      <th>Item_Visibility</th>\n",
       "      <td>0.02</td>\n",
       "      <td>0.02</td>\n",
       "      <td>0.02</td>\n",
       "      <td>0.07</td>\n",
       "      <td>0.07</td>\n",
       "    </tr>\n",
       "    <tr>\n",
       "      <th>Item_Type</th>\n",
       "      <td>Dairy</td>\n",
       "      <td>Soft Drinks</td>\n",
       "      <td>Meat</td>\n",
       "      <td>Fruits and Vegetables</td>\n",
       "      <td>Household</td>\n",
       "    </tr>\n",
       "    <tr>\n",
       "      <th>Item_MRP</th>\n",
       "      <td>249.81</td>\n",
       "      <td>48.27</td>\n",
       "      <td>141.62</td>\n",
       "      <td>182.09</td>\n",
       "      <td>53.86</td>\n",
       "    </tr>\n",
       "    <tr>\n",
       "      <th>Outlet_Identifier</th>\n",
       "      <td>OUT049</td>\n",
       "      <td>OUT018</td>\n",
       "      <td>OUT049</td>\n",
       "      <td>OUT010</td>\n",
       "      <td>OUT013</td>\n",
       "    </tr>\n",
       "    <tr>\n",
       "      <th>Outlet_Establishment_Year</th>\n",
       "      <td>1999</td>\n",
       "      <td>2009</td>\n",
       "      <td>1999</td>\n",
       "      <td>1998</td>\n",
       "      <td>1987</td>\n",
       "    </tr>\n",
       "    <tr>\n",
       "      <th>Item_Outlet_Sales</th>\n",
       "      <td>8.23</td>\n",
       "      <td>6.09</td>\n",
       "      <td>7.65</td>\n",
       "      <td>6.60</td>\n",
       "      <td>6.90</td>\n",
       "    </tr>\n",
       "    <tr>\n",
       "      <th>Shelf_life</th>\n",
       "      <td>perishable</td>\n",
       "      <td>non_perishable</td>\n",
       "      <td>perishable</td>\n",
       "      <td>perishable</td>\n",
       "      <td>non_perishable</td>\n",
       "    </tr>\n",
       "    <tr>\n",
       "      <th>MRP_per_unit_weight</th>\n",
       "      <td>26.86</td>\n",
       "      <td>8.15</td>\n",
       "      <td>8.09</td>\n",
       "      <td>9.48</td>\n",
       "      <td>6.03</td>\n",
       "    </tr>\n",
       "    <tr>\n",
       "      <th>Outlet_Years</th>\n",
       "      <td>14</td>\n",
       "      <td>4</td>\n",
       "      <td>14</td>\n",
       "      <td>15</td>\n",
       "      <td>26</td>\n",
       "    </tr>\n",
       "    <tr>\n",
       "      <th>Outlet</th>\n",
       "      <td>9</td>\n",
       "      <td>3</td>\n",
       "      <td>9</td>\n",
       "      <td>0</td>\n",
       "      <td>1</td>\n",
       "    </tr>\n",
       "    <tr>\n",
       "      <th>Outlet_Type_Grocery Store</th>\n",
       "      <td>0</td>\n",
       "      <td>0</td>\n",
       "      <td>0</td>\n",
       "      <td>1</td>\n",
       "      <td>0</td>\n",
       "    </tr>\n",
       "    <tr>\n",
       "      <th>Outlet_Type_Supermarket Type1</th>\n",
       "      <td>1</td>\n",
       "      <td>0</td>\n",
       "      <td>1</td>\n",
       "      <td>0</td>\n",
       "      <td>1</td>\n",
       "    </tr>\n",
       "    <tr>\n",
       "      <th>Outlet_Type_Supermarket Type2</th>\n",
       "      <td>0</td>\n",
       "      <td>1</td>\n",
       "      <td>0</td>\n",
       "      <td>0</td>\n",
       "      <td>0</td>\n",
       "    </tr>\n",
       "    <tr>\n",
       "      <th>Outlet_Type_Supermarket Type3</th>\n",
       "      <td>0</td>\n",
       "      <td>0</td>\n",
       "      <td>0</td>\n",
       "      <td>0</td>\n",
       "      <td>0</td>\n",
       "    </tr>\n",
       "    <tr>\n",
       "      <th>Item_Fat_Content_Low Fat</th>\n",
       "      <td>1</td>\n",
       "      <td>0</td>\n",
       "      <td>1</td>\n",
       "      <td>0</td>\n",
       "      <td>0</td>\n",
       "    </tr>\n",
       "    <tr>\n",
       "      <th>Item_Fat_Content_Non-Edible</th>\n",
       "      <td>0</td>\n",
       "      <td>0</td>\n",
       "      <td>0</td>\n",
       "      <td>0</td>\n",
       "      <td>1</td>\n",
       "    </tr>\n",
       "    <tr>\n",
       "      <th>Item_Fat_Content_Regular</th>\n",
       "      <td>0</td>\n",
       "      <td>1</td>\n",
       "      <td>0</td>\n",
       "      <td>1</td>\n",
       "      <td>0</td>\n",
       "    </tr>\n",
       "    <tr>\n",
       "      <th>New_Item_Type_Drink</th>\n",
       "      <td>0</td>\n",
       "      <td>1</td>\n",
       "      <td>0</td>\n",
       "      <td>0</td>\n",
       "      <td>0</td>\n",
       "    </tr>\n",
       "    <tr>\n",
       "      <th>New_Item_Type_Food</th>\n",
       "      <td>1</td>\n",
       "      <td>0</td>\n",
       "      <td>1</td>\n",
       "      <td>1</td>\n",
       "      <td>0</td>\n",
       "    </tr>\n",
       "    <tr>\n",
       "      <th>New_Item_Type_Non-Consumable</th>\n",
       "      <td>0</td>\n",
       "      <td>0</td>\n",
       "      <td>0</td>\n",
       "      <td>0</td>\n",
       "      <td>1</td>\n",
       "    </tr>\n",
       "    <tr>\n",
       "      <th>Outlet_Size_High</th>\n",
       "      <td>0</td>\n",
       "      <td>0</td>\n",
       "      <td>0</td>\n",
       "      <td>0</td>\n",
       "      <td>1</td>\n",
       "    </tr>\n",
       "    <tr>\n",
       "      <th>Outlet_Size_Medium</th>\n",
       "      <td>1</td>\n",
       "      <td>1</td>\n",
       "      <td>1</td>\n",
       "      <td>0</td>\n",
       "      <td>0</td>\n",
       "    </tr>\n",
       "    <tr>\n",
       "      <th>Outlet_Size_Small</th>\n",
       "      <td>0</td>\n",
       "      <td>0</td>\n",
       "      <td>0</td>\n",
       "      <td>1</td>\n",
       "      <td>0</td>\n",
       "    </tr>\n",
       "    <tr>\n",
       "      <th>Outlet_Location_Type_Tier 1</th>\n",
       "      <td>1</td>\n",
       "      <td>0</td>\n",
       "      <td>1</td>\n",
       "      <td>0</td>\n",
       "      <td>0</td>\n",
       "    </tr>\n",
       "    <tr>\n",
       "      <th>Outlet_Location_Type_Tier 2</th>\n",
       "      <td>0</td>\n",
       "      <td>0</td>\n",
       "      <td>0</td>\n",
       "      <td>0</td>\n",
       "      <td>0</td>\n",
       "    </tr>\n",
       "    <tr>\n",
       "      <th>Outlet_Location_Type_Tier 3</th>\n",
       "      <td>0</td>\n",
       "      <td>1</td>\n",
       "      <td>0</td>\n",
       "      <td>1</td>\n",
       "      <td>1</td>\n",
       "    </tr>\n",
       "  </tbody>\n",
       "</table>\n",
       "</div>"
      ],
      "text/plain": [
       "                                        0               1           2  \\\n",
       "Item_Identifier                     FDA15           DRC01       FDN15   \n",
       "Item_Weight                          9.30            5.92       17.50   \n",
       "Item_Visibility                      0.02            0.02        0.02   \n",
       "Item_Type                           Dairy     Soft Drinks        Meat   \n",
       "Item_MRP                           249.81           48.27      141.62   \n",
       "Outlet_Identifier                  OUT049          OUT018      OUT049   \n",
       "Outlet_Establishment_Year            1999            2009        1999   \n",
       "Item_Outlet_Sales                    8.23            6.09        7.65   \n",
       "Shelf_life                     perishable  non_perishable  perishable   \n",
       "MRP_per_unit_weight                 26.86            8.15        8.09   \n",
       "Outlet_Years                           14               4          14   \n",
       "Outlet                                  9               3           9   \n",
       "Outlet_Type_Grocery Store               0               0           0   \n",
       "Outlet_Type_Supermarket Type1           1               0           1   \n",
       "Outlet_Type_Supermarket Type2           0               1           0   \n",
       "Outlet_Type_Supermarket Type3           0               0           0   \n",
       "Item_Fat_Content_Low Fat                1               0           1   \n",
       "Item_Fat_Content_Non-Edible             0               0           0   \n",
       "Item_Fat_Content_Regular                0               1           0   \n",
       "New_Item_Type_Drink                     0               1           0   \n",
       "New_Item_Type_Food                      1               0           1   \n",
       "New_Item_Type_Non-Consumable            0               0           0   \n",
       "Outlet_Size_High                        0               0           0   \n",
       "Outlet_Size_Medium                      1               1           1   \n",
       "Outlet_Size_Small                       0               0           0   \n",
       "Outlet_Location_Type_Tier 1             1               0           1   \n",
       "Outlet_Location_Type_Tier 2             0               0           0   \n",
       "Outlet_Location_Type_Tier 3             0               1           0   \n",
       "\n",
       "                                                   3               4  \n",
       "Item_Identifier                                FDX07           NCD19  \n",
       "Item_Weight                                    19.20            8.93  \n",
       "Item_Visibility                                 0.07            0.07  \n",
       "Item_Type                      Fruits and Vegetables       Household  \n",
       "Item_MRP                                      182.09           53.86  \n",
       "Outlet_Identifier                             OUT010          OUT013  \n",
       "Outlet_Establishment_Year                       1998            1987  \n",
       "Item_Outlet_Sales                               6.60            6.90  \n",
       "Shelf_life                                perishable  non_perishable  \n",
       "MRP_per_unit_weight                             9.48            6.03  \n",
       "Outlet_Years                                      15              26  \n",
       "Outlet                                             0               1  \n",
       "Outlet_Type_Grocery Store                          1               0  \n",
       "Outlet_Type_Supermarket Type1                      0               1  \n",
       "Outlet_Type_Supermarket Type2                      0               0  \n",
       "Outlet_Type_Supermarket Type3                      0               0  \n",
       "Item_Fat_Content_Low Fat                           0               0  \n",
       "Item_Fat_Content_Non-Edible                        0               1  \n",
       "Item_Fat_Content_Regular                           1               0  \n",
       "New_Item_Type_Drink                                0               0  \n",
       "New_Item_Type_Food                                 1               0  \n",
       "New_Item_Type_Non-Consumable                       0               1  \n",
       "Outlet_Size_High                                   0               1  \n",
       "Outlet_Size_Medium                                 0               0  \n",
       "Outlet_Size_Small                                  1               0  \n",
       "Outlet_Location_Type_Tier 1                        0               0  \n",
       "Outlet_Location_Type_Tier 2                        0               0  \n",
       "Outlet_Location_Type_Tier 3                        1               1  "
      ]
     },
     "execution_count": 70,
     "metadata": {},
     "output_type": "execute_result"
    }
   ],
   "source": [
    "df.head().T"
   ]
  },
  {
   "cell_type": "code",
   "execution_count": 71,
   "id": "44466760",
   "metadata": {},
   "outputs": [
    {
     "data": {
      "text/plain": [
       "(8523, 28)"
      ]
     },
     "execution_count": 71,
     "metadata": {},
     "output_type": "execute_result"
    }
   ],
   "source": [
    "df.shape"
   ]
  },
  {
   "cell_type": "code",
   "execution_count": 72,
   "id": "2f7ce388",
   "metadata": {},
   "outputs": [
    {
     "data": {
      "text/plain": [
       "Item_Identifier                   object\n",
       "Item_Weight                      float64\n",
       "Item_Visibility                  float64\n",
       "Item_Type                         object\n",
       "Item_MRP                         float64\n",
       "Outlet_Identifier                 object\n",
       "Outlet_Establishment_Year          int64\n",
       "Item_Outlet_Sales                float64\n",
       "Shelf_life                        object\n",
       "MRP_per_unit_weight              float64\n",
       "Outlet_Years                       int64\n",
       "Outlet                             int32\n",
       "Outlet_Type_Grocery Store          uint8\n",
       "Outlet_Type_Supermarket Type1      uint8\n",
       "Outlet_Type_Supermarket Type2      uint8\n",
       "Outlet_Type_Supermarket Type3      uint8\n",
       "Item_Fat_Content_Low Fat           uint8\n",
       "Item_Fat_Content_Non-Edible        uint8\n",
       "Item_Fat_Content_Regular           uint8\n",
       "New_Item_Type_Drink                uint8\n",
       "New_Item_Type_Food                 uint8\n",
       "New_Item_Type_Non-Consumable       uint8\n",
       "Outlet_Size_High                   uint8\n",
       "Outlet_Size_Medium                 uint8\n",
       "Outlet_Size_Small                  uint8\n",
       "Outlet_Location_Type_Tier 1        uint8\n",
       "Outlet_Location_Type_Tier 2        uint8\n",
       "Outlet_Location_Type_Tier 3        uint8\n",
       "dtype: object"
      ]
     },
     "execution_count": 72,
     "metadata": {},
     "output_type": "execute_result"
    }
   ],
   "source": [
    "df.dtypes"
   ]
  },
  {
   "cell_type": "markdown",
   "id": "983da1f1",
   "metadata": {},
   "source": [
    "### Spliting data into Train & Test"
   ]
  },
  {
   "cell_type": "code",
   "execution_count": 73,
   "id": "aa7acb7f",
   "metadata": {},
   "outputs": [],
   "source": [
    "train = df.drop(['Item_Outlet_Sales','Item_Identifier','Item_Type','Outlet_Identifier','Shelf_life'],axis=1)\n",
    "test = df['Item_Outlet_Sales']"
   ]
  },
  {
   "cell_type": "code",
   "execution_count": 74,
   "id": "bb8aaba7",
   "metadata": {},
   "outputs": [
    {
     "name": "stdout",
     "output_type": "stream",
     "text": [
      "(8523, 23)\n",
      "(8523,)\n"
     ]
    }
   ],
   "source": [
    "print(train.shape)\n",
    "print(test.shape)"
   ]
  },
  {
   "cell_type": "code",
   "execution_count": 75,
   "id": "6ddfc488",
   "metadata": {},
   "outputs": [],
   "source": [
    "## Statistical Analysis"
   ]
  },
  {
   "cell_type": "code",
   "execution_count": 76,
   "id": "d5ef0ebd",
   "metadata": {},
   "outputs": [],
   "source": [
    "import statsmodels.api as sm"
   ]
  },
  {
   "cell_type": "code",
   "execution_count": 77,
   "id": "d035c30f",
   "metadata": {},
   "outputs": [
    {
     "name": "stdout",
     "output_type": "stream",
     "text": [
      "                            OLS Regression Results                            \n",
      "==============================================================================\n",
      "Dep. Variable:      Item_Outlet_Sales   R-squared:                       0.721\n",
      "Model:                            OLS   Adj. R-squared:                  0.720\n",
      "Method:                 Least Squares   F-statistic:                     1371.\n",
      "Date:                Fri, 03 Feb 2023   Prob (F-statistic):               0.00\n",
      "Time:                        21:36:12   Log-Likelihood:                -6803.4\n",
      "No. Observations:                8523   AIC:                         1.364e+04\n",
      "Df Residuals:                    8506   BIC:                         1.376e+04\n",
      "Df Model:                          16                                         \n",
      "Covariance Type:            nonrobust                                         \n",
      "=================================================================================================\n",
      "                                    coef    std err          t      P>|t|      [0.025      0.975]\n",
      "-------------------------------------------------------------------------------------------------\n",
      "const                         -3.696e-05   1.11e-05     -3.330      0.001   -5.87e-05   -1.52e-05\n",
      "Item_Weight                      -0.0028      0.003     -1.033      0.302      -0.008       0.003\n",
      "Item_Visibility                  -0.0458      0.126     -0.364      0.716      -0.293       0.201\n",
      "Item_MRP                          0.0085      0.000     40.085      0.000       0.008       0.009\n",
      "Outlet_Establishment_Year         0.0039      0.000     14.712      0.000       0.003       0.004\n",
      "MRP_per_unit_weight              -0.0019      0.002     -0.886      0.375      -0.006       0.002\n",
      "Outlet_Years                     -0.0783      0.023     -3.465      0.001      -0.123      -0.034\n",
      "Outlet                            0.0678      0.022      3.114      0.002       0.025       0.110\n",
      "Outlet_Type_Grocery Store        -1.2357      0.091    -13.598      0.000      -1.414      -1.058\n",
      "Outlet_Type_Supermarket Type1    -0.5694      0.273     -2.084      0.037      -1.105      -0.034\n",
      "Outlet_Type_Supermarket Type2    -0.3704      0.162     -2.281      0.023      -0.689      -0.052\n",
      "Outlet_Type_Supermarket Type3     2.1754      0.346      6.281      0.000       1.496       2.854\n",
      "Item_Fat_Content_Low Fat         -0.0077      0.007     -1.128      0.259      -0.021       0.006\n",
      "Item_Fat_Content_Non-Edible       0.0006      0.006      0.103      0.918      -0.011       0.012\n",
      "Item_Fat_Content_Regular          0.0071      0.008      0.916      0.360      -0.008       0.022\n",
      "New_Item_Type_Drink              -0.0074      0.012     -0.607      0.544      -0.031       0.016\n",
      "New_Item_Type_Food                0.0067      0.009      0.713      0.476      -0.012       0.025\n",
      "New_Item_Type_Non-Consumable      0.0006      0.006      0.103      0.918      -0.011       0.012\n",
      "Outlet_Size_High                  1.4648      0.417      3.516      0.000       0.648       2.281\n",
      "Outlet_Size_Medium               -0.8262      0.242     -3.412      0.001      -1.301      -0.352\n",
      "Outlet_Size_Small                -0.6387      0.175     -3.644      0.000      -0.982      -0.295\n",
      "Outlet_Location_Type_Tier 1       0.4007      0.107      3.750      0.000       0.191       0.610\n",
      "Outlet_Location_Type_Tier 2       0.0240      0.018      1.347      0.178      -0.011       0.059\n",
      "Outlet_Location_Type_Tier 3      -0.4247      0.110     -3.873      0.000      -0.640      -0.210\n",
      "==============================================================================\n",
      "Omnibus:                      821.853   Durbin-Watson:                   2.008\n",
      "Prob(Omnibus):                  0.000   Jarque-Bera (JB):             1149.526\n",
      "Skew:                          -0.772   Prob(JB):                    2.42e-250\n",
      "Kurtosis:                       3.925   Cond. No.                     1.79e+21\n",
      "==============================================================================\n",
      "\n",
      "Notes:\n",
      "[1] Standard Errors assume that the covariance matrix of the errors is correctly specified.\n",
      "[2] The smallest eigenvalue is 1.07e-32. This might indicate that there are\n",
      "strong multicollinearity problems or that the design matrix is singular.\n"
     ]
    }
   ],
   "source": [
    "x = train\n",
    "y = test\n",
    "x = sm.add_constant(x)\n",
    "result = sm.OLS(y,x).fit()\n",
    "print(result.summary())"
   ]
  },
  {
   "cell_type": "markdown",
   "id": "4f61f4bd",
   "metadata": {},
   "source": [
    "### Observations\n",
    "1.p value for F satistic is < 0.05 so we can say that our model is significant (at least for one independent variable, the regression coef. is not equal zero,rejecting the null hypothesis,The null hypothesis under this is “all the regression coefficients are equal to zero”.)\n",
    "\n",
    "2.R squared value indicates that 72.1 percentage of the variance in the dependent variable is explained by our model , Adjusted R square value is lesser than R square that is indicating that our model has insignificant attributes.\n",
    "\n",
    "3.Now we will check p values for each attributes if the p values is <0.05 we will say that the attribute is contributing to the model (reject the null hypothesis(coef=0)) if > 0.05 then the attribute is insigficant (accept the null hypothesis(coef=0))\n",
    "\n",
    "4 looking the p values we can say {'Item_Weight','Item_Visibility','MRP_per_unit_weight','Item_Fat_Content_Low Fat',\n",
    "'Item_Fat_Content_Non-Edible','New_Item_Type_Drinking','New_Item_Type_Food','Item_Fat_Content_Regular',\n",
    "'New_Item_Type_Non-Consumable','Outlet_Location_Type_Tier 2'} have no contribution to the dependent variable.\n",
    "\n",
    "5 We can conclude that these attributes are not driving the sales\n",
    "\n",
    "6.Prob(Omnibus): One of the assumptions of OLS is that the errors are normally distributed. Omnibus test is performed in order to check this. Here, the null hypothesis is that the errors are normally distributed. Prob(Omnibus) is supposed to be close to the 1 in order for it to satisfy the OLS assumption. In this case Prob(Omnibus) is 0.000, which implies that the OLS assumption is not satisfied , the errors are not normally distributed\n",
    "\n",
    "7.Durbin-watson: The value of this test is arround 2.008 which is almost equal to 2 this means this data has no sutocorelation.\n",
    "\n",
    "8..Prob(Jarque-Bera): It is in line with the Omnibus test. It is also performed for the distribution analysis of the regression errors. It is supposed to agree with the results of Omnibus test. A large value of JB test indicates that the errors are not normally distributed.\n",
    "                      \n",
    "                      "
   ]
  },
  {
   "cell_type": "code",
   "execution_count": 78,
   "id": "21aae477",
   "metadata": {},
   "outputs": [],
   "source": [
    "train_1 = train.drop(['Item_Weight','Item_Visibility','MRP_per_unit_weight',\n",
    "                      'Item_Fat_Content_Low Fat','Item_Fat_Content_Non-Edible','New_Item_Type_Drink',\n",
    "                      'New_Item_Type_Food','Item_Fat_Content_Regular',\n",
    "                      'New_Item_Type_Non-Consumable','Outlet_Location_Type_Tier 2'],axis=1)\n"
   ]
  },
  {
   "cell_type": "code",
   "execution_count": 79,
   "id": "2bace862",
   "metadata": {},
   "outputs": [
    {
     "name": "stdout",
     "output_type": "stream",
     "text": [
      "                            OLS Regression Results                            \n",
      "==============================================================================\n",
      "Dep. Variable:      Item_Outlet_Sales   R-squared:                       0.721\n",
      "Model:                            OLS   Adj. R-squared:                  0.720\n",
      "Method:                 Least Squares   F-statistic:                     2194.\n",
      "Date:                Fri, 03 Feb 2023   Prob (F-statistic):               0.00\n",
      "Time:                        21:36:12   Log-Likelihood:                -6805.0\n",
      "No. Observations:                8523   AIC:                         1.363e+04\n",
      "Df Residuals:                    8512   BIC:                         1.371e+04\n",
      "Df Model:                          10                                         \n",
      "Covariance Type:            nonrobust                                         \n",
      "=================================================================================================\n",
      "                                    coef    std err          t      P>|t|      [0.025      0.975]\n",
      "-------------------------------------------------------------------------------------------------\n",
      "const                         -3.686e-05   1.11e-05     -3.321      0.001   -5.86e-05   -1.51e-05\n",
      "Item_MRP                          0.0083   9.36e-05     88.681      0.000       0.008       0.008\n",
      "Outlet_Establishment_Year         0.0039      0.000     14.671      0.000       0.003       0.004\n",
      "Outlet_Years                     -0.0781      0.023     -3.456      0.001      -0.122      -0.034\n",
      "Outlet                            0.0675      0.022      3.103      0.002       0.025       0.110\n",
      "Outlet_Type_Grocery Store        -1.2382      0.091    -13.643      0.000      -1.416      -1.060\n",
      "Outlet_Type_Supermarket Type1    -0.5694      0.273     -2.084      0.037      -1.105      -0.034\n",
      "Outlet_Type_Supermarket Type2    -0.3685      0.162     -2.269      0.023      -0.687      -0.050\n",
      "Outlet_Type_Supermarket Type3     2.1760      0.346      6.284      0.000       1.497       2.855\n",
      "Outlet_Size_High                  1.4628      0.417      3.512      0.000       0.646       2.279\n",
      "Outlet_Size_Medium               -0.8248      0.242     -3.407      0.001      -1.299      -0.350\n",
      "Outlet_Size_Small                -0.6381      0.175     -3.641      0.000      -0.982      -0.295\n",
      "Outlet_Location_Type_Tier 1       0.3757      0.107      3.513      0.000       0.166       0.585\n",
      "Outlet_Location_Type_Tier 3      -0.4509      0.115     -3.917      0.000      -0.677      -0.225\n",
      "==============================================================================\n",
      "Omnibus:                      822.172   Durbin-Watson:                   2.008\n",
      "Prob(Omnibus):                  0.000   Jarque-Bera (JB):             1150.880\n",
      "Skew:                          -0.771   Prob(JB):                    1.23e-250\n",
      "Kurtosis:                       3.928   Cond. No.                     4.77e+20\n",
      "==============================================================================\n",
      "\n",
      "Notes:\n",
      "[1] Standard Errors assume that the covariance matrix of the errors is correctly specified.\n",
      "[2] The smallest eigenvalue is 1.5e-31. This might indicate that there are\n",
      "strong multicollinearity problems or that the design matrix is singular.\n"
     ]
    }
   ],
   "source": [
    "x = train_1\n",
    "y = test\n",
    "\n",
    "# adding the constant term\n",
    "x = sm.add_constant(x)\n",
    "# performing the regression\n",
    "# and fitting the model\n",
    "result = sm.OLS(y, x).fit()\n",
    "\n",
    "# printing the summary table\n",
    "print(result.summary())"
   ]
  },
  {
   "cell_type": "markdown",
   "id": "63f9174b",
   "metadata": {},
   "source": [
    "### Observations\n",
    "1.F-statistic has increased by a significat amount , p value (F-statistic) <0.05 so model is significant.\n",
    "\n",
    "2.R squared has decreases  which proves that the dropped attributes were insignificant for the model.\n",
    "\n",
    "3.the p value of all attributes are <0.05 so , all the selected attributes are significant to dependet variable"
   ]
  },
  {
   "cell_type": "code",
   "execution_count": 80,
   "id": "2e079ef0",
   "metadata": {},
   "outputs": [],
   "source": [
    "from sklearn.model_selection import train_test_split , cross_val_score,KFold\n",
    "from sklearn.metrics import r2_score,mean_absolute_error,mean_squared_error"
   ]
  },
  {
   "cell_type": "code",
   "execution_count": 81,
   "id": "486db947",
   "metadata": {},
   "outputs": [],
   "source": [
    "X_train , X_test, y_train , y_test = train_test_split(train_1,test,test_size = 0.25, shuffle = True,random_state=100)"
   ]
  },
  {
   "cell_type": "markdown",
   "id": "e3787433",
   "metadata": {},
   "source": [
    "### Modelling"
   ]
  },
  {
   "cell_type": "code",
   "execution_count": 82,
   "id": "4b581dfd",
   "metadata": {},
   "outputs": [],
   "source": [
    "def model_details(model,alg):\n",
    "    y_pred=model.predict(X_test)\n",
    "    rmse=np.sqrt(mean_squared_error(y_test,y_pred))\n",
    "    mae = mean_absolute_error(y_test,y_pred)\n",
    "    acc=round(model.score(X_test,y_test)*100,2)\n",
    "    cvs=cross_val_score(model,X_test,y_test,cv=5)\n",
    "    mean=round(cvs.mean()*100,2)\n",
    "    std=round(cvs.std()*2,2)\n",
    "    print(\"Model Report\")\n",
    "    print('Accuracy of {}: {}%'.format(alg,acc),)\n",
    "    print('RMSE Value: ',round(rmse,2))\n",
    "    print('Cross Validation Score: Mean - {} | Std - {}'.format(mean,std))\n",
    "    print('MAE Value: ',round(mae,2))\n",
    "    \n",
    "    "
   ]
  },
  {
   "cell_type": "markdown",
   "id": "ff846484",
   "metadata": {},
   "source": [
    "### Base Model"
   ]
  },
  {
   "cell_type": "code",
   "execution_count": 83,
   "id": "069db68c",
   "metadata": {},
   "outputs": [],
   "source": [
    "from sklearn.metrics import mean_squared_error"
   ]
  },
  {
   "cell_type": "code",
   "execution_count": 84,
   "id": "6c4c9b81",
   "metadata": {},
   "outputs": [
    {
     "data": {
      "text/plain": [
       "1475.18731106077"
      ]
     },
     "execution_count": 84,
     "metadata": {},
     "output_type": "execute_result"
    }
   ],
   "source": [
    "base_model = np.exp(test.mean())\n",
    "base_model"
   ]
  },
  {
   "cell_type": "code",
   "execution_count": 85,
   "id": "1e7416a9",
   "metadata": {},
   "outputs": [
    {
     "data": {
      "text/plain": [
       "[1475.18731106077,\n",
       " 1475.18731106077,\n",
       " 1475.18731106077,\n",
       " 1475.18731106077,\n",
       " 1475.18731106077,\n",
       " 1475.18731106077,\n",
       " 1475.18731106077,\n",
       " 1475.18731106077,\n",
       " 1475.18731106077,\n",
       " 1475.18731106077,\n",
       " 1475.18731106077,\n",
       " 1475.18731106077,\n",
       " 1475.18731106077,\n",
       " 1475.18731106077,\n",
       " 1475.18731106077,\n",
       " 1475.18731106077,\n",
       " 1475.18731106077,\n",
       " 1475.18731106077,\n",
       " 1475.18731106077,\n",
       " 1475.18731106077,\n",
       " 1475.18731106077,\n",
       " 1475.18731106077,\n",
       " 1475.18731106077,\n",
       " 1475.18731106077,\n",
       " 1475.18731106077,\n",
       " 1475.18731106077,\n",
       " 1475.18731106077,\n",
       " 1475.18731106077,\n",
       " 1475.18731106077,\n",
       " 1475.18731106077,\n",
       " 1475.18731106077,\n",
       " 1475.18731106077,\n",
       " 1475.18731106077,\n",
       " 1475.18731106077,\n",
       " 1475.18731106077,\n",
       " 1475.18731106077,\n",
       " 1475.18731106077,\n",
       " 1475.18731106077,\n",
       " 1475.18731106077,\n",
       " 1475.18731106077,\n",
       " 1475.18731106077,\n",
       " 1475.18731106077,\n",
       " 1475.18731106077,\n",
       " 1475.18731106077,\n",
       " 1475.18731106077,\n",
       " 1475.18731106077,\n",
       " 1475.18731106077,\n",
       " 1475.18731106077,\n",
       " 1475.18731106077,\n",
       " 1475.18731106077,\n",
       " 1475.18731106077,\n",
       " 1475.18731106077,\n",
       " 1475.18731106077,\n",
       " 1475.18731106077,\n",
       " 1475.18731106077,\n",
       " 1475.18731106077,\n",
       " 1475.18731106077,\n",
       " 1475.18731106077,\n",
       " 1475.18731106077,\n",
       " 1475.18731106077,\n",
       " 1475.18731106077,\n",
       " 1475.18731106077,\n",
       " 1475.18731106077,\n",
       " 1475.18731106077,\n",
       " 1475.18731106077,\n",
       " 1475.18731106077,\n",
       " 1475.18731106077,\n",
       " 1475.18731106077,\n",
       " 1475.18731106077,\n",
       " 1475.18731106077,\n",
       " 1475.18731106077,\n",
       " 1475.18731106077,\n",
       " 1475.18731106077,\n",
       " 1475.18731106077,\n",
       " 1475.18731106077,\n",
       " 1475.18731106077,\n",
       " 1475.18731106077,\n",
       " 1475.18731106077,\n",
       " 1475.18731106077,\n",
       " 1475.18731106077,\n",
       " 1475.18731106077,\n",
       " 1475.18731106077,\n",
       " 1475.18731106077,\n",
       " 1475.18731106077,\n",
       " 1475.18731106077,\n",
       " 1475.18731106077,\n",
       " 1475.18731106077,\n",
       " 1475.18731106077,\n",
       " 1475.18731106077,\n",
       " 1475.18731106077,\n",
       " 1475.18731106077,\n",
       " 1475.18731106077,\n",
       " 1475.18731106077,\n",
       " 1475.18731106077,\n",
       " 1475.18731106077,\n",
       " 1475.18731106077,\n",
       " 1475.18731106077,\n",
       " 1475.18731106077,\n",
       " 1475.18731106077,\n",
       " 1475.18731106077,\n",
       " 1475.18731106077,\n",
       " 1475.18731106077,\n",
       " 1475.18731106077,\n",
       " 1475.18731106077,\n",
       " 1475.18731106077,\n",
       " 1475.18731106077,\n",
       " 1475.18731106077,\n",
       " 1475.18731106077,\n",
       " 1475.18731106077,\n",
       " 1475.18731106077,\n",
       " 1475.18731106077,\n",
       " 1475.18731106077,\n",
       " 1475.18731106077,\n",
       " 1475.18731106077,\n",
       " 1475.18731106077,\n",
       " 1475.18731106077,\n",
       " 1475.18731106077,\n",
       " 1475.18731106077,\n",
       " 1475.18731106077,\n",
       " 1475.18731106077,\n",
       " 1475.18731106077,\n",
       " 1475.18731106077,\n",
       " 1475.18731106077,\n",
       " 1475.18731106077,\n",
       " 1475.18731106077,\n",
       " 1475.18731106077,\n",
       " 1475.18731106077,\n",
       " 1475.18731106077,\n",
       " 1475.18731106077,\n",
       " 1475.18731106077,\n",
       " 1475.18731106077,\n",
       " 1475.18731106077,\n",
       " 1475.18731106077,\n",
       " 1475.18731106077,\n",
       " 1475.18731106077,\n",
       " 1475.18731106077,\n",
       " 1475.18731106077,\n",
       " 1475.18731106077,\n",
       " 1475.18731106077,\n",
       " 1475.18731106077,\n",
       " 1475.18731106077,\n",
       " 1475.18731106077,\n",
       " 1475.18731106077,\n",
       " 1475.18731106077,\n",
       " 1475.18731106077,\n",
       " 1475.18731106077,\n",
       " 1475.18731106077,\n",
       " 1475.18731106077,\n",
       " 1475.18731106077,\n",
       " 1475.18731106077,\n",
       " 1475.18731106077,\n",
       " 1475.18731106077,\n",
       " 1475.18731106077,\n",
       " 1475.18731106077,\n",
       " 1475.18731106077,\n",
       " 1475.18731106077,\n",
       " 1475.18731106077,\n",
       " 1475.18731106077,\n",
       " 1475.18731106077,\n",
       " 1475.18731106077,\n",
       " 1475.18731106077,\n",
       " 1475.18731106077,\n",
       " 1475.18731106077,\n",
       " 1475.18731106077,\n",
       " 1475.18731106077,\n",
       " 1475.18731106077,\n",
       " 1475.18731106077,\n",
       " 1475.18731106077,\n",
       " 1475.18731106077,\n",
       " 1475.18731106077,\n",
       " 1475.18731106077,\n",
       " 1475.18731106077,\n",
       " 1475.18731106077,\n",
       " 1475.18731106077,\n",
       " 1475.18731106077,\n",
       " 1475.18731106077,\n",
       " 1475.18731106077,\n",
       " 1475.18731106077,\n",
       " 1475.18731106077,\n",
       " 1475.18731106077,\n",
       " 1475.18731106077,\n",
       " 1475.18731106077,\n",
       " 1475.18731106077,\n",
       " 1475.18731106077,\n",
       " 1475.18731106077,\n",
       " 1475.18731106077,\n",
       " 1475.18731106077,\n",
       " 1475.18731106077,\n",
       " 1475.18731106077,\n",
       " 1475.18731106077,\n",
       " 1475.18731106077,\n",
       " 1475.18731106077,\n",
       " 1475.18731106077,\n",
       " 1475.18731106077,\n",
       " 1475.18731106077,\n",
       " 1475.18731106077,\n",
       " 1475.18731106077,\n",
       " 1475.18731106077,\n",
       " 1475.18731106077,\n",
       " 1475.18731106077,\n",
       " 1475.18731106077,\n",
       " 1475.18731106077,\n",
       " 1475.18731106077,\n",
       " 1475.18731106077,\n",
       " 1475.18731106077,\n",
       " 1475.18731106077,\n",
       " 1475.18731106077,\n",
       " 1475.18731106077,\n",
       " 1475.18731106077,\n",
       " 1475.18731106077,\n",
       " 1475.18731106077,\n",
       " 1475.18731106077,\n",
       " 1475.18731106077,\n",
       " 1475.18731106077,\n",
       " 1475.18731106077,\n",
       " 1475.18731106077,\n",
       " 1475.18731106077,\n",
       " 1475.18731106077,\n",
       " 1475.18731106077,\n",
       " 1475.18731106077,\n",
       " 1475.18731106077,\n",
       " 1475.18731106077,\n",
       " 1475.18731106077,\n",
       " 1475.18731106077,\n",
       " 1475.18731106077,\n",
       " 1475.18731106077,\n",
       " 1475.18731106077,\n",
       " 1475.18731106077,\n",
       " 1475.18731106077,\n",
       " 1475.18731106077,\n",
       " 1475.18731106077,\n",
       " 1475.18731106077,\n",
       " 1475.18731106077,\n",
       " 1475.18731106077,\n",
       " 1475.18731106077,\n",
       " 1475.18731106077,\n",
       " 1475.18731106077,\n",
       " 1475.18731106077,\n",
       " 1475.18731106077,\n",
       " 1475.18731106077,\n",
       " 1475.18731106077,\n",
       " 1475.18731106077,\n",
       " 1475.18731106077,\n",
       " 1475.18731106077,\n",
       " 1475.18731106077,\n",
       " 1475.18731106077,\n",
       " 1475.18731106077,\n",
       " 1475.18731106077,\n",
       " 1475.18731106077,\n",
       " 1475.18731106077,\n",
       " 1475.18731106077,\n",
       " 1475.18731106077,\n",
       " 1475.18731106077,\n",
       " 1475.18731106077,\n",
       " 1475.18731106077,\n",
       " 1475.18731106077,\n",
       " 1475.18731106077,\n",
       " 1475.18731106077,\n",
       " 1475.18731106077,\n",
       " 1475.18731106077,\n",
       " 1475.18731106077,\n",
       " 1475.18731106077,\n",
       " 1475.18731106077,\n",
       " 1475.18731106077,\n",
       " 1475.18731106077,\n",
       " 1475.18731106077,\n",
       " 1475.18731106077,\n",
       " 1475.18731106077,\n",
       " 1475.18731106077,\n",
       " 1475.18731106077,\n",
       " 1475.18731106077,\n",
       " 1475.18731106077,\n",
       " 1475.18731106077,\n",
       " 1475.18731106077,\n",
       " 1475.18731106077,\n",
       " 1475.18731106077,\n",
       " 1475.18731106077,\n",
       " 1475.18731106077,\n",
       " 1475.18731106077,\n",
       " 1475.18731106077,\n",
       " 1475.18731106077,\n",
       " 1475.18731106077,\n",
       " 1475.18731106077,\n",
       " 1475.18731106077,\n",
       " 1475.18731106077,\n",
       " 1475.18731106077,\n",
       " 1475.18731106077,\n",
       " 1475.18731106077,\n",
       " 1475.18731106077,\n",
       " 1475.18731106077,\n",
       " 1475.18731106077,\n",
       " 1475.18731106077,\n",
       " 1475.18731106077,\n",
       " 1475.18731106077,\n",
       " 1475.18731106077,\n",
       " 1475.18731106077,\n",
       " 1475.18731106077,\n",
       " 1475.18731106077,\n",
       " 1475.18731106077,\n",
       " 1475.18731106077,\n",
       " 1475.18731106077,\n",
       " 1475.18731106077,\n",
       " 1475.18731106077,\n",
       " 1475.18731106077,\n",
       " 1475.18731106077,\n",
       " 1475.18731106077,\n",
       " 1475.18731106077,\n",
       " 1475.18731106077,\n",
       " 1475.18731106077,\n",
       " 1475.18731106077,\n",
       " 1475.18731106077,\n",
       " 1475.18731106077,\n",
       " 1475.18731106077,\n",
       " 1475.18731106077,\n",
       " 1475.18731106077,\n",
       " 1475.18731106077,\n",
       " 1475.18731106077,\n",
       " 1475.18731106077,\n",
       " 1475.18731106077,\n",
       " 1475.18731106077,\n",
       " 1475.18731106077,\n",
       " 1475.18731106077,\n",
       " 1475.18731106077,\n",
       " 1475.18731106077,\n",
       " 1475.18731106077,\n",
       " 1475.18731106077,\n",
       " 1475.18731106077,\n",
       " 1475.18731106077,\n",
       " 1475.18731106077,\n",
       " 1475.18731106077,\n",
       " 1475.18731106077,\n",
       " 1475.18731106077,\n",
       " 1475.18731106077,\n",
       " 1475.18731106077,\n",
       " 1475.18731106077,\n",
       " 1475.18731106077,\n",
       " 1475.18731106077,\n",
       " 1475.18731106077,\n",
       " 1475.18731106077,\n",
       " 1475.18731106077,\n",
       " 1475.18731106077,\n",
       " 1475.18731106077,\n",
       " 1475.18731106077,\n",
       " 1475.18731106077,\n",
       " 1475.18731106077,\n",
       " 1475.18731106077,\n",
       " 1475.18731106077,\n",
       " 1475.18731106077,\n",
       " 1475.18731106077,\n",
       " 1475.18731106077,\n",
       " 1475.18731106077,\n",
       " 1475.18731106077,\n",
       " 1475.18731106077,\n",
       " 1475.18731106077,\n",
       " 1475.18731106077,\n",
       " 1475.18731106077,\n",
       " 1475.18731106077,\n",
       " 1475.18731106077,\n",
       " 1475.18731106077,\n",
       " 1475.18731106077,\n",
       " 1475.18731106077,\n",
       " 1475.18731106077,\n",
       " 1475.18731106077,\n",
       " 1475.18731106077,\n",
       " 1475.18731106077,\n",
       " 1475.18731106077,\n",
       " 1475.18731106077,\n",
       " 1475.18731106077,\n",
       " 1475.18731106077,\n",
       " 1475.18731106077,\n",
       " 1475.18731106077,\n",
       " 1475.18731106077,\n",
       " 1475.18731106077,\n",
       " 1475.18731106077,\n",
       " 1475.18731106077,\n",
       " 1475.18731106077,\n",
       " 1475.18731106077,\n",
       " 1475.18731106077,\n",
       " 1475.18731106077,\n",
       " 1475.18731106077,\n",
       " 1475.18731106077,\n",
       " 1475.18731106077,\n",
       " 1475.18731106077,\n",
       " 1475.18731106077,\n",
       " 1475.18731106077,\n",
       " 1475.18731106077,\n",
       " 1475.18731106077,\n",
       " 1475.18731106077,\n",
       " 1475.18731106077,\n",
       " 1475.18731106077,\n",
       " 1475.18731106077,\n",
       " 1475.18731106077,\n",
       " 1475.18731106077,\n",
       " 1475.18731106077,\n",
       " 1475.18731106077,\n",
       " 1475.18731106077,\n",
       " 1475.18731106077,\n",
       " 1475.18731106077,\n",
       " 1475.18731106077,\n",
       " 1475.18731106077,\n",
       " 1475.18731106077,\n",
       " 1475.18731106077,\n",
       " 1475.18731106077,\n",
       " 1475.18731106077,\n",
       " 1475.18731106077,\n",
       " 1475.18731106077,\n",
       " 1475.18731106077,\n",
       " 1475.18731106077,\n",
       " 1475.18731106077,\n",
       " 1475.18731106077,\n",
       " 1475.18731106077,\n",
       " 1475.18731106077,\n",
       " 1475.18731106077,\n",
       " 1475.18731106077,\n",
       " 1475.18731106077,\n",
       " 1475.18731106077,\n",
       " 1475.18731106077,\n",
       " 1475.18731106077,\n",
       " 1475.18731106077,\n",
       " 1475.18731106077,\n",
       " 1475.18731106077,\n",
       " 1475.18731106077,\n",
       " 1475.18731106077,\n",
       " 1475.18731106077,\n",
       " 1475.18731106077,\n",
       " 1475.18731106077,\n",
       " 1475.18731106077,\n",
       " 1475.18731106077,\n",
       " 1475.18731106077,\n",
       " 1475.18731106077,\n",
       " 1475.18731106077,\n",
       " 1475.18731106077,\n",
       " 1475.18731106077,\n",
       " 1475.18731106077,\n",
       " 1475.18731106077,\n",
       " 1475.18731106077,\n",
       " 1475.18731106077,\n",
       " 1475.18731106077,\n",
       " 1475.18731106077,\n",
       " 1475.18731106077,\n",
       " 1475.18731106077,\n",
       " 1475.18731106077,\n",
       " 1475.18731106077,\n",
       " 1475.18731106077,\n",
       " 1475.18731106077,\n",
       " 1475.18731106077,\n",
       " 1475.18731106077,\n",
       " 1475.18731106077,\n",
       " 1475.18731106077,\n",
       " 1475.18731106077,\n",
       " 1475.18731106077,\n",
       " 1475.18731106077,\n",
       " 1475.18731106077,\n",
       " 1475.18731106077,\n",
       " 1475.18731106077,\n",
       " 1475.18731106077,\n",
       " 1475.18731106077,\n",
       " 1475.18731106077,\n",
       " 1475.18731106077,\n",
       " 1475.18731106077,\n",
       " 1475.18731106077,\n",
       " 1475.18731106077,\n",
       " 1475.18731106077,\n",
       " 1475.18731106077,\n",
       " 1475.18731106077,\n",
       " 1475.18731106077,\n",
       " 1475.18731106077,\n",
       " 1475.18731106077,\n",
       " 1475.18731106077,\n",
       " 1475.18731106077,\n",
       " 1475.18731106077,\n",
       " 1475.18731106077,\n",
       " 1475.18731106077,\n",
       " 1475.18731106077,\n",
       " 1475.18731106077,\n",
       " 1475.18731106077,\n",
       " 1475.18731106077,\n",
       " 1475.18731106077,\n",
       " 1475.18731106077,\n",
       " 1475.18731106077,\n",
       " 1475.18731106077,\n",
       " 1475.18731106077,\n",
       " 1475.18731106077,\n",
       " 1475.18731106077,\n",
       " 1475.18731106077,\n",
       " 1475.18731106077,\n",
       " 1475.18731106077,\n",
       " 1475.18731106077,\n",
       " 1475.18731106077,\n",
       " 1475.18731106077,\n",
       " 1475.18731106077,\n",
       " 1475.18731106077,\n",
       " 1475.18731106077,\n",
       " 1475.18731106077,\n",
       " 1475.18731106077,\n",
       " 1475.18731106077,\n",
       " 1475.18731106077,\n",
       " 1475.18731106077,\n",
       " 1475.18731106077,\n",
       " 1475.18731106077,\n",
       " 1475.18731106077,\n",
       " 1475.18731106077,\n",
       " 1475.18731106077,\n",
       " 1475.18731106077,\n",
       " 1475.18731106077,\n",
       " 1475.18731106077,\n",
       " 1475.18731106077,\n",
       " 1475.18731106077,\n",
       " 1475.18731106077,\n",
       " 1475.18731106077,\n",
       " 1475.18731106077,\n",
       " 1475.18731106077,\n",
       " 1475.18731106077,\n",
       " 1475.18731106077,\n",
       " 1475.18731106077,\n",
       " 1475.18731106077,\n",
       " 1475.18731106077,\n",
       " 1475.18731106077,\n",
       " 1475.18731106077,\n",
       " 1475.18731106077,\n",
       " 1475.18731106077,\n",
       " 1475.18731106077,\n",
       " 1475.18731106077,\n",
       " 1475.18731106077,\n",
       " 1475.18731106077,\n",
       " 1475.18731106077,\n",
       " 1475.18731106077,\n",
       " 1475.18731106077,\n",
       " 1475.18731106077,\n",
       " 1475.18731106077,\n",
       " 1475.18731106077,\n",
       " 1475.18731106077,\n",
       " 1475.18731106077,\n",
       " 1475.18731106077,\n",
       " 1475.18731106077,\n",
       " 1475.18731106077,\n",
       " 1475.18731106077,\n",
       " 1475.18731106077,\n",
       " 1475.18731106077,\n",
       " 1475.18731106077,\n",
       " 1475.18731106077,\n",
       " 1475.18731106077,\n",
       " 1475.18731106077,\n",
       " 1475.18731106077,\n",
       " 1475.18731106077,\n",
       " 1475.18731106077,\n",
       " 1475.18731106077,\n",
       " 1475.18731106077,\n",
       " 1475.18731106077,\n",
       " 1475.18731106077,\n",
       " 1475.18731106077,\n",
       " 1475.18731106077,\n",
       " 1475.18731106077,\n",
       " 1475.18731106077,\n",
       " 1475.18731106077,\n",
       " 1475.18731106077,\n",
       " 1475.18731106077,\n",
       " 1475.18731106077,\n",
       " 1475.18731106077,\n",
       " 1475.18731106077,\n",
       " 1475.18731106077,\n",
       " 1475.18731106077,\n",
       " 1475.18731106077,\n",
       " 1475.18731106077,\n",
       " 1475.18731106077,\n",
       " 1475.18731106077,\n",
       " 1475.18731106077,\n",
       " 1475.18731106077,\n",
       " 1475.18731106077,\n",
       " 1475.18731106077,\n",
       " 1475.18731106077,\n",
       " 1475.18731106077,\n",
       " 1475.18731106077,\n",
       " 1475.18731106077,\n",
       " 1475.18731106077,\n",
       " 1475.18731106077,\n",
       " 1475.18731106077,\n",
       " 1475.18731106077,\n",
       " 1475.18731106077,\n",
       " 1475.18731106077,\n",
       " 1475.18731106077,\n",
       " 1475.18731106077,\n",
       " 1475.18731106077,\n",
       " 1475.18731106077,\n",
       " 1475.18731106077,\n",
       " 1475.18731106077,\n",
       " 1475.18731106077,\n",
       " 1475.18731106077,\n",
       " 1475.18731106077,\n",
       " 1475.18731106077,\n",
       " 1475.18731106077,\n",
       " 1475.18731106077,\n",
       " 1475.18731106077,\n",
       " 1475.18731106077,\n",
       " 1475.18731106077,\n",
       " 1475.18731106077,\n",
       " 1475.18731106077,\n",
       " 1475.18731106077,\n",
       " 1475.18731106077,\n",
       " 1475.18731106077,\n",
       " 1475.18731106077,\n",
       " 1475.18731106077,\n",
       " 1475.18731106077,\n",
       " 1475.18731106077,\n",
       " 1475.18731106077,\n",
       " 1475.18731106077,\n",
       " 1475.18731106077,\n",
       " 1475.18731106077,\n",
       " 1475.18731106077,\n",
       " 1475.18731106077,\n",
       " 1475.18731106077,\n",
       " 1475.18731106077,\n",
       " 1475.18731106077,\n",
       " 1475.18731106077,\n",
       " 1475.18731106077,\n",
       " 1475.18731106077,\n",
       " 1475.18731106077,\n",
       " 1475.18731106077,\n",
       " 1475.18731106077,\n",
       " 1475.18731106077,\n",
       " 1475.18731106077,\n",
       " 1475.18731106077,\n",
       " 1475.18731106077,\n",
       " 1475.18731106077,\n",
       " 1475.18731106077,\n",
       " 1475.18731106077,\n",
       " 1475.18731106077,\n",
       " 1475.18731106077,\n",
       " 1475.18731106077,\n",
       " 1475.18731106077,\n",
       " 1475.18731106077,\n",
       " 1475.18731106077,\n",
       " 1475.18731106077,\n",
       " 1475.18731106077,\n",
       " 1475.18731106077,\n",
       " 1475.18731106077,\n",
       " 1475.18731106077,\n",
       " 1475.18731106077,\n",
       " 1475.18731106077,\n",
       " 1475.18731106077,\n",
       " 1475.18731106077,\n",
       " 1475.18731106077,\n",
       " 1475.18731106077,\n",
       " 1475.18731106077,\n",
       " 1475.18731106077,\n",
       " 1475.18731106077,\n",
       " 1475.18731106077,\n",
       " 1475.18731106077,\n",
       " 1475.18731106077,\n",
       " 1475.18731106077,\n",
       " 1475.18731106077,\n",
       " 1475.18731106077,\n",
       " 1475.18731106077,\n",
       " 1475.18731106077,\n",
       " 1475.18731106077,\n",
       " 1475.18731106077,\n",
       " 1475.18731106077,\n",
       " 1475.18731106077,\n",
       " 1475.18731106077,\n",
       " 1475.18731106077,\n",
       " 1475.18731106077,\n",
       " 1475.18731106077,\n",
       " 1475.18731106077,\n",
       " 1475.18731106077,\n",
       " 1475.18731106077,\n",
       " 1475.18731106077,\n",
       " 1475.18731106077,\n",
       " 1475.18731106077,\n",
       " 1475.18731106077,\n",
       " 1475.18731106077,\n",
       " 1475.18731106077,\n",
       " 1475.18731106077,\n",
       " 1475.18731106077,\n",
       " 1475.18731106077,\n",
       " 1475.18731106077,\n",
       " 1475.18731106077,\n",
       " 1475.18731106077,\n",
       " 1475.18731106077,\n",
       " 1475.18731106077,\n",
       " 1475.18731106077,\n",
       " 1475.18731106077,\n",
       " 1475.18731106077,\n",
       " 1475.18731106077,\n",
       " 1475.18731106077,\n",
       " 1475.18731106077,\n",
       " 1475.18731106077,\n",
       " 1475.18731106077,\n",
       " 1475.18731106077,\n",
       " 1475.18731106077,\n",
       " 1475.18731106077,\n",
       " 1475.18731106077,\n",
       " 1475.18731106077,\n",
       " 1475.18731106077,\n",
       " 1475.18731106077,\n",
       " 1475.18731106077,\n",
       " 1475.18731106077,\n",
       " 1475.18731106077,\n",
       " 1475.18731106077,\n",
       " 1475.18731106077,\n",
       " 1475.18731106077,\n",
       " 1475.18731106077,\n",
       " 1475.18731106077,\n",
       " 1475.18731106077,\n",
       " 1475.18731106077,\n",
       " 1475.18731106077,\n",
       " 1475.18731106077,\n",
       " 1475.18731106077,\n",
       " 1475.18731106077,\n",
       " 1475.18731106077,\n",
       " 1475.18731106077,\n",
       " 1475.18731106077,\n",
       " 1475.18731106077,\n",
       " 1475.18731106077,\n",
       " 1475.18731106077,\n",
       " 1475.18731106077,\n",
       " 1475.18731106077,\n",
       " 1475.18731106077,\n",
       " 1475.18731106077,\n",
       " 1475.18731106077,\n",
       " 1475.18731106077,\n",
       " 1475.18731106077,\n",
       " 1475.18731106077,\n",
       " 1475.18731106077,\n",
       " 1475.18731106077,\n",
       " 1475.18731106077,\n",
       " 1475.18731106077,\n",
       " 1475.18731106077,\n",
       " 1475.18731106077,\n",
       " 1475.18731106077,\n",
       " 1475.18731106077,\n",
       " 1475.18731106077,\n",
       " 1475.18731106077,\n",
       " 1475.18731106077,\n",
       " 1475.18731106077,\n",
       " 1475.18731106077,\n",
       " 1475.18731106077,\n",
       " 1475.18731106077,\n",
       " 1475.18731106077,\n",
       " 1475.18731106077,\n",
       " 1475.18731106077,\n",
       " 1475.18731106077,\n",
       " 1475.18731106077,\n",
       " 1475.18731106077,\n",
       " 1475.18731106077,\n",
       " 1475.18731106077,\n",
       " 1475.18731106077,\n",
       " 1475.18731106077,\n",
       " 1475.18731106077,\n",
       " 1475.18731106077,\n",
       " 1475.18731106077,\n",
       " 1475.18731106077,\n",
       " 1475.18731106077,\n",
       " 1475.18731106077,\n",
       " 1475.18731106077,\n",
       " 1475.18731106077,\n",
       " 1475.18731106077,\n",
       " 1475.18731106077,\n",
       " 1475.18731106077,\n",
       " 1475.18731106077,\n",
       " 1475.18731106077,\n",
       " 1475.18731106077,\n",
       " 1475.18731106077,\n",
       " 1475.18731106077,\n",
       " 1475.18731106077,\n",
       " 1475.18731106077,\n",
       " 1475.18731106077,\n",
       " 1475.18731106077,\n",
       " 1475.18731106077,\n",
       " 1475.18731106077,\n",
       " 1475.18731106077,\n",
       " 1475.18731106077,\n",
       " 1475.18731106077,\n",
       " 1475.18731106077,\n",
       " 1475.18731106077,\n",
       " 1475.18731106077,\n",
       " 1475.18731106077,\n",
       " 1475.18731106077,\n",
       " 1475.18731106077,\n",
       " 1475.18731106077,\n",
       " 1475.18731106077,\n",
       " 1475.18731106077,\n",
       " 1475.18731106077,\n",
       " 1475.18731106077,\n",
       " 1475.18731106077,\n",
       " 1475.18731106077,\n",
       " 1475.18731106077,\n",
       " 1475.18731106077,\n",
       " 1475.18731106077,\n",
       " 1475.18731106077,\n",
       " 1475.18731106077,\n",
       " 1475.18731106077,\n",
       " 1475.18731106077,\n",
       " 1475.18731106077,\n",
       " 1475.18731106077,\n",
       " 1475.18731106077,\n",
       " 1475.18731106077,\n",
       " 1475.18731106077,\n",
       " 1475.18731106077,\n",
       " 1475.18731106077,\n",
       " 1475.18731106077,\n",
       " 1475.18731106077,\n",
       " 1475.18731106077,\n",
       " 1475.18731106077,\n",
       " 1475.18731106077,\n",
       " 1475.18731106077,\n",
       " 1475.18731106077,\n",
       " 1475.18731106077,\n",
       " 1475.18731106077,\n",
       " 1475.18731106077,\n",
       " 1475.18731106077,\n",
       " 1475.18731106077,\n",
       " 1475.18731106077,\n",
       " 1475.18731106077,\n",
       " 1475.18731106077,\n",
       " 1475.18731106077,\n",
       " 1475.18731106077,\n",
       " 1475.18731106077,\n",
       " 1475.18731106077,\n",
       " 1475.18731106077,\n",
       " 1475.18731106077,\n",
       " 1475.18731106077,\n",
       " 1475.18731106077,\n",
       " 1475.18731106077,\n",
       " 1475.18731106077,\n",
       " 1475.18731106077,\n",
       " 1475.18731106077,\n",
       " 1475.18731106077,\n",
       " 1475.18731106077,\n",
       " 1475.18731106077,\n",
       " 1475.18731106077,\n",
       " 1475.18731106077,\n",
       " 1475.18731106077,\n",
       " 1475.18731106077,\n",
       " 1475.18731106077,\n",
       " 1475.18731106077,\n",
       " 1475.18731106077,\n",
       " 1475.18731106077,\n",
       " 1475.18731106077,\n",
       " 1475.18731106077,\n",
       " 1475.18731106077,\n",
       " 1475.18731106077,\n",
       " 1475.18731106077,\n",
       " 1475.18731106077,\n",
       " 1475.18731106077,\n",
       " 1475.18731106077,\n",
       " 1475.18731106077,\n",
       " 1475.18731106077,\n",
       " 1475.18731106077,\n",
       " 1475.18731106077,\n",
       " 1475.18731106077,\n",
       " 1475.18731106077,\n",
       " 1475.18731106077,\n",
       " 1475.18731106077,\n",
       " 1475.18731106077,\n",
       " 1475.18731106077,\n",
       " 1475.18731106077,\n",
       " 1475.18731106077,\n",
       " 1475.18731106077,\n",
       " 1475.18731106077,\n",
       " 1475.18731106077,\n",
       " 1475.18731106077,\n",
       " 1475.18731106077,\n",
       " 1475.18731106077,\n",
       " 1475.18731106077,\n",
       " 1475.18731106077,\n",
       " 1475.18731106077,\n",
       " 1475.18731106077,\n",
       " 1475.18731106077,\n",
       " 1475.18731106077,\n",
       " 1475.18731106077,\n",
       " 1475.18731106077,\n",
       " 1475.18731106077,\n",
       " 1475.18731106077,\n",
       " 1475.18731106077,\n",
       " 1475.18731106077,\n",
       " 1475.18731106077,\n",
       " 1475.18731106077,\n",
       " 1475.18731106077,\n",
       " 1475.18731106077,\n",
       " 1475.18731106077,\n",
       " 1475.18731106077,\n",
       " 1475.18731106077,\n",
       " 1475.18731106077,\n",
       " 1475.18731106077,\n",
       " 1475.18731106077,\n",
       " 1475.18731106077,\n",
       " 1475.18731106077,\n",
       " 1475.18731106077,\n",
       " 1475.18731106077,\n",
       " 1475.18731106077,\n",
       " 1475.18731106077,\n",
       " 1475.18731106077,\n",
       " 1475.18731106077,\n",
       " 1475.18731106077,\n",
       " 1475.18731106077,\n",
       " 1475.18731106077,\n",
       " 1475.18731106077,\n",
       " 1475.18731106077,\n",
       " 1475.18731106077,\n",
       " 1475.18731106077,\n",
       " 1475.18731106077,\n",
       " 1475.18731106077,\n",
       " 1475.18731106077,\n",
       " 1475.18731106077,\n",
       " 1475.18731106077,\n",
       " 1475.18731106077,\n",
       " 1475.18731106077,\n",
       " 1475.18731106077,\n",
       " 1475.18731106077,\n",
       " 1475.18731106077,\n",
       " 1475.18731106077,\n",
       " 1475.18731106077,\n",
       " 1475.18731106077,\n",
       " 1475.18731106077,\n",
       " 1475.18731106077,\n",
       " 1475.18731106077,\n",
       " 1475.18731106077,\n",
       " 1475.18731106077,\n",
       " 1475.18731106077,\n",
       " 1475.18731106077,\n",
       " 1475.18731106077,\n",
       " 1475.18731106077,\n",
       " 1475.18731106077,\n",
       " 1475.18731106077,\n",
       " 1475.18731106077,\n",
       " 1475.18731106077,\n",
       " 1475.18731106077,\n",
       " 1475.18731106077,\n",
       " 1475.18731106077,\n",
       " 1475.18731106077,\n",
       " 1475.18731106077,\n",
       " 1475.18731106077,\n",
       " 1475.18731106077,\n",
       " 1475.18731106077,\n",
       " 1475.18731106077,\n",
       " 1475.18731106077,\n",
       " 1475.18731106077,\n",
       " 1475.18731106077,\n",
       " 1475.18731106077,\n",
       " 1475.18731106077,\n",
       " 1475.18731106077,\n",
       " 1475.18731106077,\n",
       " 1475.18731106077,\n",
       " 1475.18731106077,\n",
       " 1475.18731106077,\n",
       " 1475.18731106077,\n",
       " 1475.18731106077,\n",
       " 1475.18731106077,\n",
       " 1475.18731106077,\n",
       " 1475.18731106077,\n",
       " 1475.18731106077,\n",
       " 1475.18731106077,\n",
       " 1475.18731106077,\n",
       " 1475.18731106077,\n",
       " 1475.18731106077,\n",
       " 1475.18731106077,\n",
       " 1475.18731106077,\n",
       " 1475.18731106077,\n",
       " 1475.18731106077,\n",
       " 1475.18731106077,\n",
       " 1475.18731106077,\n",
       " 1475.18731106077,\n",
       " 1475.18731106077,\n",
       " 1475.18731106077,\n",
       " 1475.18731106077,\n",
       " 1475.18731106077,\n",
       " 1475.18731106077,\n",
       " 1475.18731106077,\n",
       " 1475.18731106077,\n",
       " 1475.18731106077,\n",
       " 1475.18731106077,\n",
       " 1475.18731106077,\n",
       " 1475.18731106077,\n",
       " 1475.18731106077,\n",
       " 1475.18731106077,\n",
       " 1475.18731106077,\n",
       " 1475.18731106077,\n",
       " 1475.18731106077,\n",
       " 1475.18731106077,\n",
       " 1475.18731106077,\n",
       " 1475.18731106077,\n",
       " 1475.18731106077,\n",
       " 1475.18731106077,\n",
       " 1475.18731106077,\n",
       " 1475.18731106077,\n",
       " 1475.18731106077,\n",
       " 1475.18731106077,\n",
       " 1475.18731106077,\n",
       " 1475.18731106077,\n",
       " 1475.18731106077,\n",
       " 1475.18731106077,\n",
       " 1475.18731106077,\n",
       " 1475.18731106077,\n",
       " 1475.18731106077,\n",
       " 1475.18731106077,\n",
       " 1475.18731106077,\n",
       " 1475.18731106077,\n",
       " 1475.18731106077,\n",
       " 1475.18731106077,\n",
       " 1475.18731106077,\n",
       " ...]"
      ]
     },
     "execution_count": 85,
     "metadata": {},
     "output_type": "execute_result"
    }
   ],
   "source": [
    "base_model = [base_model]*len(test)\n",
    "base_model"
   ]
  },
  {
   "cell_type": "code",
   "execution_count": 86,
   "id": "34a9b469",
   "metadata": {},
   "outputs": [],
   "source": [
    "base_rmse = np.sqrt(mean_squared_error(np.exp(test) ,base_model))\n",
    "base_mae = mean_absolute_error(np.exp(test) ,base_model)"
   ]
  },
  {
   "cell_type": "code",
   "execution_count": 87,
   "id": "7a998282",
   "metadata": {},
   "outputs": [
    {
     "name": "stdout",
     "output_type": "stream",
     "text": [
      "The RMSE of Base Mode :  1846.7210756644454\n",
      "The MAE of Base Mode :  1337.5191897692075\n"
     ]
    }
   ],
   "source": [
    "print(\"The RMSE of Base Mode : \" , base_rmse)\n",
    "print(\"The MAE of Base Mode : \" , base_mae)"
   ]
  },
  {
   "cell_type": "markdown",
   "id": "e70f80d8",
   "metadata": {},
   "source": [
    "### Linear Regression"
   ]
  },
  {
   "cell_type": "code",
   "execution_count": 88,
   "id": "035a3605",
   "metadata": {},
   "outputs": [],
   "source": [
    "from sklearn.linear_model import LinearRegression\n",
    "LR = LinearRegression()"
   ]
  },
  {
   "cell_type": "code",
   "execution_count": 89,
   "id": "03e9a7cc",
   "metadata": {},
   "outputs": [
    {
     "name": "stdout",
     "output_type": "stream",
     "text": [
      "0.7111704426585916\n"
     ]
    }
   ],
   "source": [
    "LR.fit(X_train,y_train)\n",
    "print(LR.score(X_test,y_test))"
   ]
  },
  {
   "cell_type": "code",
   "execution_count": 90,
   "id": "c8fd7b0f",
   "metadata": {},
   "outputs": [],
   "source": [
    "y_pred = LR.predict(X_test)\n",
    "y_pred = np.exp(y_pred)\n",
    "y_test_lr = np.exp(y_test)"
   ]
  },
  {
   "cell_type": "code",
   "execution_count": 91,
   "id": "2c588417",
   "metadata": {},
   "outputs": [],
   "source": [
    "rmse=np.sqrt(mean_squared_error(y_test_lr,y_pred))\n",
    "mae = mean_absolute_error(y_test_lr,y_pred)"
   ]
  },
  {
   "cell_type": "code",
   "execution_count": 92,
   "id": "974af172",
   "metadata": {},
   "outputs": [
    {
     "name": "stdout",
     "output_type": "stream",
     "text": [
      "The RMSE of Linear Regression :  1161.4090283149455\n",
      "The MAE of Linear Regression :  802.8915635129053\n"
     ]
    }
   ],
   "source": [
    "print(\"The RMSE of Linear Regression : \" , rmse)\n",
    "print(\"The MAE of Linear Regression : \" , mae)"
   ]
  },
  {
   "cell_type": "code",
   "execution_count": 93,
   "id": "185b1609",
   "metadata": {},
   "outputs": [
    {
     "name": "stdout",
     "output_type": "stream",
     "text": [
      "Model Report\n",
      "Accuracy of LinearRegression: 71.12%\n",
      "RMSE Value:  0.54\n",
      "Cross Validation Score: Mean - 70.88 | Std - 0.04\n",
      "MAE Value:  0.42\n"
     ]
    }
   ],
   "source": [
    "model_details(LR,'LinearRegression')"
   ]
  },
  {
   "cell_type": "markdown",
   "id": "5049a3e6",
   "metadata": {},
   "source": [
    "### Random Forest Regressor"
   ]
  },
  {
   "cell_type": "code",
   "execution_count": 94,
   "id": "5e9c02ce",
   "metadata": {},
   "outputs": [
    {
     "data": {
      "text/plain": [
       "RandomForestRegressor(max_depth=8, min_samples_leaf=100, min_samples_split=8,\n",
       "                      n_estimators=600)"
      ]
     },
     "execution_count": 94,
     "metadata": {},
     "output_type": "execute_result"
    }
   ],
   "source": [
    "from sklearn.ensemble import RandomForestRegressor\n",
    "RF = RandomForestRegressor(n_estimators=600, min_samples_leaf=100, min_samples_split=8, max_depth=8)\n",
    "RF.fit(X_train,y_train)"
   ]
  },
  {
   "cell_type": "code",
   "execution_count": 95,
   "id": "6185aa2e",
   "metadata": {},
   "outputs": [],
   "source": [
    "#RF = RandomForestRegressor(n_estimators= 600,min_samples_split= 5,min_samples_leaf= 8,max_depth= 670)\n",
    "#RF.fit(X_train,y_train)"
   ]
  },
  {
   "cell_type": "code",
   "execution_count": 96,
   "id": "b00a2e10",
   "metadata": {},
   "outputs": [
    {
     "data": {
      "text/plain": [
       "0.7171833499352991"
      ]
     },
     "execution_count": 96,
     "metadata": {},
     "output_type": "execute_result"
    }
   ],
   "source": [
    "RF.score(X_test,y_test)"
   ]
  },
  {
   "cell_type": "code",
   "execution_count": 97,
   "id": "467bbb04",
   "metadata": {},
   "outputs": [],
   "source": [
    "y_pred_rf = RF.predict(X_test)\n",
    "y_pred_rf = np.exp(y_pred_rf)"
   ]
  },
  {
   "cell_type": "code",
   "execution_count": 98,
   "id": "5d4fe554",
   "metadata": {},
   "outputs": [],
   "source": [
    "rmse=np.sqrt(mean_squared_error(y_test_lr,y_pred_rf))\n",
    "mae = mean_absolute_error(y_test_lr,y_pred_rf)"
   ]
  },
  {
   "cell_type": "code",
   "execution_count": 99,
   "id": "a7a047fe",
   "metadata": {},
   "outputs": [
    {
     "name": "stdout",
     "output_type": "stream",
     "text": [
      "The RMSE of Random Forest :  1126.0179499660494\n",
      "The MAE of Random Forest :  784.927976215674\n"
     ]
    }
   ],
   "source": [
    "print(\"The RMSE of Random Forest : \" , rmse)\n",
    "print(\"The MAE of Random Forest : \" , mae)"
   ]
  },
  {
   "cell_type": "code",
   "execution_count": 100,
   "id": "86a4054d",
   "metadata": {},
   "outputs": [
    {
     "name": "stdout",
     "output_type": "stream",
     "text": [
      "Model Report\n",
      "Accuracy of RandomForestRegressor: 71.72%\n",
      "RMSE Value:  0.54\n",
      "Cross Validation Score: Mean - 66.49 | Std - 0.05\n",
      "MAE Value:  0.41\n"
     ]
    }
   ],
   "source": [
    "model_details(RF,'RandomForestRegressor')"
   ]
  },
  {
   "cell_type": "markdown",
   "id": "79db58c7",
   "metadata": {},
   "source": [
    "### XG Boost"
   ]
  },
  {
   "cell_type": "code",
   "execution_count": 103,
   "id": "773a4391",
   "metadata": {},
   "outputs": [
    {
     "name": "stdout",
     "output_type": "stream",
     "text": [
      "Defaulting to user installation because normal site-packages is not writeable\n",
      "Collecting xgboost\n",
      "  Downloading xgboost-1.7.3-py3-none-win_amd64.whl (89.1 MB)\n",
      "     -------------------------------------- 89.1/89.1 MB 170.4 kB/s eta 0:00:00\n",
      "Requirement already satisfied: numpy in c:\\programdata\\anaconda3\\lib\\site-packages (from xgboost) (1.21.5)\n",
      "Requirement already satisfied: scipy in c:\\programdata\\anaconda3\\lib\\site-packages (from xgboost) (1.9.1)\n",
      "Installing collected packages: xgboost\n",
      "Successfully installed xgboost-1.7.3\n"
     ]
    }
   ],
   "source": [
    "!pip3 install xgboost"
   ]
  },
  {
   "cell_type": "code",
   "execution_count": 104,
   "id": "93ed381c",
   "metadata": {},
   "outputs": [],
   "source": [
    "from xgboost import XGBRegressor"
   ]
  },
  {
   "cell_type": "code",
   "execution_count": 105,
   "id": "b0324ff5",
   "metadata": {},
   "outputs": [],
   "source": [
    "XG=XGBRegressor(learning_rate=0.05, subsample=1,max_depth= 2,n_estimators=400 )"
   ]
  },
  {
   "cell_type": "code",
   "execution_count": 106,
   "id": "47f27e37",
   "metadata": {},
   "outputs": [
    {
     "data": {
      "text/plain": [
       "0.7256835080801667"
      ]
     },
     "execution_count": 106,
     "metadata": {},
     "output_type": "execute_result"
    }
   ],
   "source": [
    "XG.fit(X_train,y_train)\n",
    "XG.score(X_test,y_test)"
   ]
  },
  {
   "cell_type": "code",
   "execution_count": 107,
   "id": "7c117925",
   "metadata": {},
   "outputs": [],
   "source": [
    "y_pred_xg = XG.predict(X_test)\n",
    "y_pred_xg = np.exp(y_pred_xg)"
   ]
  },
  {
   "cell_type": "code",
   "execution_count": 108,
   "id": "5974d9dc",
   "metadata": {},
   "outputs": [],
   "source": [
    "rmse=np.sqrt(mean_squared_error(y_test_lr,y_pred_xg))\n",
    "mae_p = mean_absolute_error(y_test_lr,y_pred_xg)"
   ]
  },
  {
   "cell_type": "code",
   "execution_count": 109,
   "id": "f7c21496",
   "metadata": {},
   "outputs": [
    {
     "name": "stdout",
     "output_type": "stream",
     "text": [
      "The RMSE of XGBRegressor :  1114.8652966515638\n",
      "The MAE of XGBRegressor :  773.0986683293271\n"
     ]
    }
   ],
   "source": [
    "print(\"The RMSE of XGBRegressor : \" , rmse)\n",
    "print(\"The MAE of XGBRegressor : \" , mae_p)"
   ]
  },
  {
   "cell_type": "code",
   "execution_count": 110,
   "id": "6ec18ded",
   "metadata": {},
   "outputs": [
    {
     "name": "stdout",
     "output_type": "stream",
     "text": [
      "Model Report\n",
      "Accuracy of XGBRegressor: 72.57%\n",
      "RMSE Value:  0.53\n",
      "Cross Validation Score: Mean - 71.82 | Std - 0.04\n",
      "MAE Value:  0.41\n"
     ]
    }
   ],
   "source": [
    "model_details(XG,'XGBRegressor')"
   ]
  },
  {
   "cell_type": "markdown",
   "id": "07e7159e",
   "metadata": {},
   "source": [
    "#### Comparing B/W actual sales and Predicted Sales"
   ]
  },
  {
   "cell_type": "markdown",
   "id": "c5ecf7c0",
   "metadata": {},
   "source": [
    "As XGB has given me best performence i will check by XGB regressor"
   ]
  },
  {
   "cell_type": "code",
   "execution_count": 111,
   "id": "4564875d",
   "metadata": {},
   "outputs": [],
   "source": [
    "y_pred_random=XG.predict(X_test)"
   ]
  },
  {
   "cell_type": "code",
   "execution_count": 112,
   "id": "4eb2cbfb",
   "metadata": {},
   "outputs": [],
   "source": [
    "pred_xgb=pd.DataFrame(y_pred_random,columns=['predicted_xgb'])\n",
    "true_values=list(y_test.values)\n",
    "pred_xgb['true_value']=true_values\n",
    "#pred_xgb['true_value']=y_test"
   ]
  },
  {
   "cell_type": "code",
   "execution_count": 113,
   "id": "efbc96aa",
   "metadata": {},
   "outputs": [
    {
     "data": {
      "text/html": [
       "<div>\n",
       "<style scoped>\n",
       "    .dataframe tbody tr th:only-of-type {\n",
       "        vertical-align: middle;\n",
       "    }\n",
       "\n",
       "    .dataframe tbody tr th {\n",
       "        vertical-align: top;\n",
       "    }\n",
       "\n",
       "    .dataframe thead th {\n",
       "        text-align: right;\n",
       "    }\n",
       "</style>\n",
       "<table border=\"1\" class=\"dataframe\">\n",
       "  <thead>\n",
       "    <tr style=\"text-align: right;\">\n",
       "      <th></th>\n",
       "      <th>predicted_xgb</th>\n",
       "      <th>true_value</th>\n",
       "    </tr>\n",
       "  </thead>\n",
       "  <tbody>\n",
       "    <tr>\n",
       "      <th>0</th>\n",
       "      <td>7.94</td>\n",
       "      <td>8.40</td>\n",
       "    </tr>\n",
       "    <tr>\n",
       "      <th>1</th>\n",
       "      <td>8.23</td>\n",
       "      <td>8.49</td>\n",
       "    </tr>\n",
       "    <tr>\n",
       "      <th>2</th>\n",
       "      <td>8.51</td>\n",
       "      <td>7.74</td>\n",
       "    </tr>\n",
       "    <tr>\n",
       "      <th>3</th>\n",
       "      <td>7.34</td>\n",
       "      <td>6.97</td>\n",
       "    </tr>\n",
       "    <tr>\n",
       "      <th>4</th>\n",
       "      <td>7.83</td>\n",
       "      <td>7.76</td>\n",
       "    </tr>\n",
       "    <tr>\n",
       "      <th>...</th>\n",
       "      <td>...</td>\n",
       "      <td>...</td>\n",
       "    </tr>\n",
       "    <tr>\n",
       "      <th>2126</th>\n",
       "      <td>7.31</td>\n",
       "      <td>6.95</td>\n",
       "    </tr>\n",
       "    <tr>\n",
       "      <th>2127</th>\n",
       "      <td>7.50</td>\n",
       "      <td>7.58</td>\n",
       "    </tr>\n",
       "    <tr>\n",
       "      <th>2128</th>\n",
       "      <td>7.55</td>\n",
       "      <td>7.98</td>\n",
       "    </tr>\n",
       "    <tr>\n",
       "      <th>2129</th>\n",
       "      <td>8.50</td>\n",
       "      <td>8.61</td>\n",
       "    </tr>\n",
       "    <tr>\n",
       "      <th>2130</th>\n",
       "      <td>7.52</td>\n",
       "      <td>5.56</td>\n",
       "    </tr>\n",
       "  </tbody>\n",
       "</table>\n",
       "<p>2131 rows × 2 columns</p>\n",
       "</div>"
      ],
      "text/plain": [
       "      predicted_xgb  true_value\n",
       "0              7.94        8.40\n",
       "1              8.23        8.49\n",
       "2              8.51        7.74\n",
       "3              7.34        6.97\n",
       "4              7.83        7.76\n",
       "...             ...         ...\n",
       "2126           7.31        6.95\n",
       "2127           7.50        7.58\n",
       "2128           7.55        7.98\n",
       "2129           8.50        8.61\n",
       "2130           7.52        5.56\n",
       "\n",
       "[2131 rows x 2 columns]"
      ]
     },
     "execution_count": 113,
     "metadata": {},
     "output_type": "execute_result"
    }
   ],
   "source": [
    "pred_xgb"
   ]
  },
  {
   "cell_type": "code",
   "execution_count": 114,
   "id": "cf57b687",
   "metadata": {},
   "outputs": [],
   "source": [
    "a = np.exp(pred_xgb)"
   ]
  },
  {
   "cell_type": "code",
   "execution_count": 115,
   "id": "a407beff",
   "metadata": {},
   "outputs": [
    {
     "data": {
      "text/html": [
       "<div>\n",
       "<style scoped>\n",
       "    .dataframe tbody tr th:only-of-type {\n",
       "        vertical-align: middle;\n",
       "    }\n",
       "\n",
       "    .dataframe tbody tr th {\n",
       "        vertical-align: top;\n",
       "    }\n",
       "\n",
       "    .dataframe thead th {\n",
       "        text-align: right;\n",
       "    }\n",
       "</style>\n",
       "<table border=\"1\" class=\"dataframe\">\n",
       "  <thead>\n",
       "    <tr style=\"text-align: right;\">\n",
       "      <th></th>\n",
       "      <th>predicted_xgb</th>\n",
       "      <th>true_value</th>\n",
       "    </tr>\n",
       "  </thead>\n",
       "  <tbody>\n",
       "    <tr>\n",
       "      <th>count</th>\n",
       "      <td>2131.00</td>\n",
       "      <td>2131.00</td>\n",
       "    </tr>\n",
       "    <tr>\n",
       "      <th>mean</th>\n",
       "      <td>1965.95</td>\n",
       "      <td>2208.08</td>\n",
       "    </tr>\n",
       "    <tr>\n",
       "      <th>std</th>\n",
       "      <td>1184.07</td>\n",
       "      <td>1693.57</td>\n",
       "    </tr>\n",
       "    <tr>\n",
       "      <th>min</th>\n",
       "      <td>54.38</td>\n",
       "      <td>36.62</td>\n",
       "    </tr>\n",
       "    <tr>\n",
       "      <th>25%</th>\n",
       "      <td>1055.82</td>\n",
       "      <td>875.19</td>\n",
       "    </tr>\n",
       "    <tr>\n",
       "      <th>50%</th>\n",
       "      <td>1864.85</td>\n",
       "      <td>1844.93</td>\n",
       "    </tr>\n",
       "    <tr>\n",
       "      <th>75%</th>\n",
       "      <td>2795.62</td>\n",
       "      <td>3104.63</td>\n",
       "    </tr>\n",
       "    <tr>\n",
       "      <th>max</th>\n",
       "      <td>6451.27</td>\n",
       "      <td>10072.89</td>\n",
       "    </tr>\n",
       "  </tbody>\n",
       "</table>\n",
       "</div>"
      ],
      "text/plain": [
       "       predicted_xgb  true_value\n",
       "count        2131.00     2131.00\n",
       "mean         1965.95     2208.08\n",
       "std          1184.07     1693.57\n",
       "min            54.38       36.62\n",
       "25%          1055.82      875.19\n",
       "50%          1864.85     1844.93\n",
       "75%          2795.62     3104.63\n",
       "max          6451.27    10072.89"
      ]
     },
     "execution_count": 115,
     "metadata": {},
     "output_type": "execute_result"
    }
   ],
   "source": [
    "a.describe()"
   ]
  },
  {
   "cell_type": "code",
   "execution_count": 116,
   "id": "e83fb46f",
   "metadata": {},
   "outputs": [],
   "source": [
    "comp=pred_xgb\n",
    "comp=comp.iloc[1000:1050]\n",
    "true_value=comp['true_value']\n",
    "predicted_value=comp['predicted_xgb']"
   ]
  },
  {
   "cell_type": "code",
   "execution_count": 117,
   "id": "e945b744",
   "metadata": {},
   "outputs": [
    {
     "data": {
      "image/png": "[encoded data removed]",
      "text/plain": [
       "<Figure size 640x480 with 1 Axes>"
      ]
     },
     "metadata": {},
     "output_type": "display_data"
    }
   ],
   "source": [
    "plt.plot(true_value)\n",
    "plt.plot(predicted_value)\n",
    "plt.ylabel('Item Outlet Sales')\n",
    "plt.legend(['Actual','Predicted'])\n",
    "plt.title(\"Item Outlet Sales--> Actual vs Predicted\",fontsize=16)\n",
    "plt.show()"
   ]
  },
  {
   "cell_type": "markdown",
   "id": "6167a0c2",
   "metadata": {},
   "source": [
    "### Observations:\n",
    "The RMSE and R squared value is comparatively better for XGB regressor and their R2 score is 72% so we will consider this models  according to business requirement , Later on we can try to hyper tune the models and check for the optimum results."
   ]
  },
  {
   "cell_type": "code",
   "execution_count": 101,
   "id": "69ba3294",
   "metadata": {},
   "outputs": [
    {
     "ename": "SyntaxError",
     "evalue": "invalid syntax (79834976.py, line 1)",
     "output_type": "error",
     "traceback": [
      "\u001b[1;36m  File \u001b[1;32m\"C:\\Users\\neera\\AppData\\Local\\Temp\\ipykernel_20592\\79834976.py\"\u001b[1;36m, line \u001b[1;32m1\u001b[0m\n\u001b[1;33m    git remote add origin git@github.com:NEERAJDVENOM/Big-Mart-sales-predction.git\u001b[0m\n\u001b[1;37m        ^\u001b[0m\n\u001b[1;31mSyntaxError\u001b[0m\u001b[1;31m:\u001b[0m invalid syntax\n"
     ]
    }
   ],
   "source": [
    "git remote add origin git@github.com:NEERAJDVENOM/Big-Mart-sales-predction.git\n",
    "git branch -M main\n",
    "git push -u origin main"
   ]
  }
 ],
 "metadata": {
  "kernelspec": {
   "display_name": "Python 3 (ipykernel)",
   "language": "python",
   "name": "python3"
  },
  "language_info": {
   "codemirror_mode": {
    "name": "ipython",
    "version": 3
   },
   "file_extension": ".py",
   "mimetype": "text/x-python",
   "name": "python",
   "nbconvert_exporter": "python",
   "pygments_lexer": "ipython3",
   "version": "3.9.13"
  }
 },
 "nbformat": 4,
 "nbformat_minor": 5
}
